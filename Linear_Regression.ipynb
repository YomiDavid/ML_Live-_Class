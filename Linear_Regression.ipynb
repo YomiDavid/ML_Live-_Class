{
 "cells": [
  {
   "cell_type": "code",
   "execution_count": 1,
   "id": "f1a78c54",
   "metadata": {},
   "outputs": [],
   "source": [
    "import numpy as np\n",
    "import pandas as pd\n",
    "import matplotlib.pyplot as plt\n",
    "import seaborn as sns"
   ]
  },
  {
   "cell_type": "code",
   "execution_count": 7,
   "id": "d808e8e0",
   "metadata": {},
   "outputs": [
    {
     "data": {
      "text/html": [
       "<div>\n",
       "<style scoped>\n",
       "    .dataframe tbody tr th:only-of-type {\n",
       "        vertical-align: middle;\n",
       "    }\n",
       "\n",
       "    .dataframe tbody tr th {\n",
       "        vertical-align: top;\n",
       "    }\n",
       "\n",
       "    .dataframe thead th {\n",
       "        text-align: right;\n",
       "    }\n",
       "</style>\n",
       "<table border=\"1\" class=\"dataframe\">\n",
       "  <thead>\n",
       "    <tr style=\"text-align: right;\">\n",
       "      <th></th>\n",
       "      <th>TV</th>\n",
       "      <th>Radio</th>\n",
       "      <th>Newspaper</th>\n",
       "      <th>Sales</th>\n",
       "    </tr>\n",
       "  </thead>\n",
       "  <tbody>\n",
       "    <tr>\n",
       "      <th>0</th>\n",
       "      <td>230.1</td>\n",
       "      <td>37.8</td>\n",
       "      <td>69.2</td>\n",
       "      <td>22.1</td>\n",
       "    </tr>\n",
       "    <tr>\n",
       "      <th>1</th>\n",
       "      <td>44.5</td>\n",
       "      <td>39.3</td>\n",
       "      <td>45.1</td>\n",
       "      <td>10.4</td>\n",
       "    </tr>\n",
       "    <tr>\n",
       "      <th>2</th>\n",
       "      <td>17.2</td>\n",
       "      <td>45.9</td>\n",
       "      <td>69.3</td>\n",
       "      <td>12.0</td>\n",
       "    </tr>\n",
       "    <tr>\n",
       "      <th>3</th>\n",
       "      <td>151.5</td>\n",
       "      <td>41.3</td>\n",
       "      <td>58.5</td>\n",
       "      <td>16.5</td>\n",
       "    </tr>\n",
       "    <tr>\n",
       "      <th>4</th>\n",
       "      <td>180.8</td>\n",
       "      <td>10.8</td>\n",
       "      <td>58.4</td>\n",
       "      <td>17.9</td>\n",
       "    </tr>\n",
       "  </tbody>\n",
       "</table>\n",
       "</div>"
      ],
      "text/plain": [
       "      TV  Radio  Newspaper  Sales\n",
       "0  230.1   37.8       69.2   22.1\n",
       "1   44.5   39.3       45.1   10.4\n",
       "2   17.2   45.9       69.3   12.0\n",
       "3  151.5   41.3       58.5   16.5\n",
       "4  180.8   10.8       58.4   17.9"
      ]
     },
     "execution_count": 7,
     "metadata": {},
     "output_type": "execute_result"
    }
   ],
   "source": [
    "df = pd.read_csv(r'C:\\Users\\USER\\Desktop\\Modcode\\ML_Live-_Class\\data\\advertising.csv')\n",
    "df.head()"
   ]
  },
  {
   "cell_type": "code",
   "execution_count": 104,
   "id": "cfcdd20a",
   "metadata": {},
   "outputs": [
    {
     "data": {
      "text/html": [
       "<div>\n",
       "<style scoped>\n",
       "    .dataframe tbody tr th:only-of-type {\n",
       "        vertical-align: middle;\n",
       "    }\n",
       "\n",
       "    .dataframe tbody tr th {\n",
       "        vertical-align: top;\n",
       "    }\n",
       "\n",
       "    .dataframe thead th {\n",
       "        text-align: right;\n",
       "    }\n",
       "</style>\n",
       "<table border=\"1\" class=\"dataframe\">\n",
       "  <thead>\n",
       "    <tr style=\"text-align: right;\">\n",
       "      <th></th>\n",
       "      <th>TV</th>\n",
       "      <th>Radio</th>\n",
       "      <th>Newspaper</th>\n",
       "    </tr>\n",
       "  </thead>\n",
       "  <tbody>\n",
       "    <tr>\n",
       "      <th>0</th>\n",
       "      <td>230.1</td>\n",
       "      <td>37.8</td>\n",
       "      <td>69.2</td>\n",
       "    </tr>\n",
       "    <tr>\n",
       "      <th>1</th>\n",
       "      <td>44.5</td>\n",
       "      <td>39.3</td>\n",
       "      <td>45.1</td>\n",
       "    </tr>\n",
       "    <tr>\n",
       "      <th>2</th>\n",
       "      <td>17.2</td>\n",
       "      <td>45.9</td>\n",
       "      <td>69.3</td>\n",
       "    </tr>\n",
       "    <tr>\n",
       "      <th>3</th>\n",
       "      <td>151.5</td>\n",
       "      <td>41.3</td>\n",
       "      <td>58.5</td>\n",
       "    </tr>\n",
       "    <tr>\n",
       "      <th>4</th>\n",
       "      <td>180.8</td>\n",
       "      <td>10.8</td>\n",
       "      <td>58.4</td>\n",
       "    </tr>\n",
       "  </tbody>\n",
       "</table>\n",
       "</div>"
      ],
      "text/plain": [
       "      TV  Radio  Newspaper\n",
       "0  230.1   37.8       69.2\n",
       "1   44.5   39.3       45.1\n",
       "2   17.2   45.9       69.3\n",
       "3  151.5   41.3       58.5\n",
       "4  180.8   10.8       58.4"
      ]
     },
     "execution_count": 104,
     "metadata": {},
     "output_type": "execute_result"
    }
   ],
   "source": [
    "x = df.drop(['Sales'], axis=1)\n",
    "x.head()"
   ]
  },
  {
   "cell_type": "code",
   "execution_count": 44,
   "id": "512c5783",
   "metadata": {},
   "outputs": [
    {
     "data": {
      "text/plain": [
       "0    22.1\n",
       "1    10.4\n",
       "2    12.0\n",
       "3    16.5\n",
       "4    17.9\n",
       "Name: Sales, dtype: float64"
      ]
     },
     "execution_count": 44,
     "metadata": {},
     "output_type": "execute_result"
    }
   ],
   "source": [
    "y = df['Sales']\n",
    "y.head()"
   ]
  },
  {
   "cell_type": "code",
   "execution_count": 53,
   "id": "657cba7e",
   "metadata": {},
   "outputs": [],
   "source": [
    "from sklearn.model_selection import train_test_split\n",
    "X_train, X_test, y_train, y_test = train_test_split (x, y, test_size=0.33, random_state=101)"
   ]
  },
  {
   "cell_type": "code",
   "execution_count": 54,
   "id": "b768a70b",
   "metadata": {},
   "outputs": [],
   "source": [
    "from sklearn.linear_model import LinearRegression"
   ]
  },
  {
   "cell_type": "code",
   "execution_count": 55,
   "id": "82276f0a",
   "metadata": {},
   "outputs": [],
   "source": [
    "model = LinearRegression()"
   ]
  },
  {
   "cell_type": "code",
   "execution_count": 56,
   "id": "8a95888d",
   "metadata": {},
   "outputs": [
    {
     "data": {
      "text/plain": [
       "LinearRegression()"
      ]
     },
     "execution_count": 56,
     "metadata": {},
     "output_type": "execute_result"
    }
   ],
   "source": [
    "model.fit(X_train, y_train)"
   ]
  },
  {
   "cell_type": "code",
   "execution_count": 57,
   "id": "cb178f28",
   "metadata": {},
   "outputs": [
    {
     "data": {
      "text/plain": [
       "array([13.84736062, 21.6208545 , 12.4506434 , 15.53800991,  9.13572388,\n",
       "        7.32848067, 22.13382615, 18.99389515, 12.5074889 , 20.10480143,\n",
       "       11.14471789, 16.00799576, 17.13131444, 20.51391413, 18.52689489,\n",
       "        9.81871779, 19.29995509, 10.02472134,  8.55196221, 21.07099084,\n",
       "        7.84483773, 18.13469703, 24.90087497, 23.23638138,  9.50153866,\n",
       "       15.6580894 , 23.83636942,  8.88965111, 14.71191831, 10.08773315,\n",
       "        9.28121309, 20.03204425, 12.50942245,  6.7209499 , 17.73745681,\n",
       "        9.90528961, 10.54065531, 10.3248605 ,  9.01341274, 13.48442892,\n",
       "       11.40463282, 12.32027425, 11.24446527,  7.66448064, 11.63858892,\n",
       "       10.59311539,  8.22759878, 18.42554295, 15.2491901 , 20.20019412,\n",
       "       11.07711531, 16.71290321, 20.96270351, 12.69856152, 15.72864026,\n",
       "        6.15801816, 24.13296025, 11.37314587, 21.46171542, 16.49013139,\n",
       "       16.70390396, 24.54896417,  9.00346399, 19.27803416, 16.88593651,\n",
       "       21.81240684])"
      ]
     },
     "execution_count": 57,
     "metadata": {},
     "output_type": "execute_result"
    }
   ],
   "source": [
    "test_pred = model.predict(X_test)\n",
    "test_pred"
   ]
  },
  {
   "cell_type": "code",
   "execution_count": 58,
   "id": "5ce3d32a",
   "metadata": {},
   "outputs": [],
   "source": [
    "from sklearn.metrics import mean_absolute_error"
   ]
  },
  {
   "cell_type": "code",
   "execution_count": 59,
   "id": "5ff84329",
   "metadata": {},
   "outputs": [
    {
     "data": {
      "text/plain": [
       "1.421722777623365"
      ]
     },
     "execution_count": 59,
     "metadata": {},
     "output_type": "execute_result"
    }
   ],
   "source": [
    "mean_absolute_error(y_test, test_pred)"
   ]
  },
  {
   "cell_type": "code",
   "execution_count": 60,
   "id": "ca415381",
   "metadata": {},
   "outputs": [
    {
     "data": {
      "text/plain": [
       "3.082137309967573"
      ]
     },
     "execution_count": 60,
     "metadata": {},
     "output_type": "execute_result"
    }
   ],
   "source": [
    "from sklearn.metrics import mean_squared_error\n",
    "mean_squared_error(y_test, test_pred)"
   ]
  },
  {
   "cell_type": "code",
   "execution_count": 61,
   "id": "8b2d3ede",
   "metadata": {},
   "outputs": [
    {
     "data": {
      "text/plain": [
       "1.7556016945672992"
      ]
     },
     "execution_count": 61,
     "metadata": {},
     "output_type": "execute_result"
    }
   ],
   "source": [
    "np.sqrt(mean_squared_error(y_test, test_pred))"
   ]
  },
  {
   "cell_type": "code",
   "execution_count": 63,
   "id": "627c3152",
   "metadata": {},
   "outputs": [
    {
     "data": {
      "text/plain": [
       "37     0.852639\n",
       "109   -1.820855\n",
       "31    -0.550643\n",
       "89     1.161990\n",
       "66     1.864276\n",
       "Name: Sales, dtype: float64"
      ]
     },
     "execution_count": 63,
     "metadata": {},
     "output_type": "execute_result"
    }
   ],
   "source": [
    "test_residual = y_test - test_pred\n",
    "test_residual.head()"
   ]
  },
  {
   "cell_type": "code",
   "execution_count": 64,
   "id": "77cf91e3",
   "metadata": {},
   "outputs": [
    {
     "data": {
      "text/plain": [
       "<matplotlib.lines.Line2D at 0x193678b7390>"
      ]
     },
     "execution_count": 64,
     "metadata": {},
     "output_type": "execute_result"
    },
    {
     "data": {
      "image/png": "[encoded data removed]",
      "text/plain": [
       "<Figure size 432x288 with 1 Axes>"
      ]
     },
     "metadata": {
      "needs_background": "light"
     },
     "output_type": "display_data"
    }
   ],
   "source": [
    "sns.scatterplot(x=y_test, y= test_residual) #residual plot\n",
    "plt.axhline(y=0, color='red', ls='--')"
   ]
  },
  {
   "cell_type": "code",
   "execution_count": 65,
   "id": "c6db4964",
   "metadata": {},
   "outputs": [
    {
     "data": {
      "text/plain": [
       "<seaborn.axisgrid.FacetGrid at 0x193654320b8>"
      ]
     },
     "execution_count": 65,
     "metadata": {},
     "output_type": "execute_result"
    },
    {
     "data": {
      "image/png": "[encoded data removed]",
      "text/plain": [
       "<Figure size 360x360 with 1 Axes>"
      ]
     },
     "metadata": {
      "needs_background": "light"
     },
     "output_type": "display_data"
    }
   ],
   "source": [
    "sns.displot(test_residual, bins=30, kde=True)"
   ]
  },
  {
   "cell_type": "code",
   "execution_count": 66,
   "id": "232b75a9",
   "metadata": {},
   "outputs": [
    {
     "data": {
      "image/png": "[encoded data removed]",
      "text/plain": [
       "<Figure size 600x800 with 1 Axes>"
      ]
     },
     "metadata": {
      "needs_background": "light"
     },
     "output_type": "display_data"
    }
   ],
   "source": [
    "import scipy as sp\n",
    "\n",
    "# Create a figure and axis to plot on\n",
    "fig, ax = plt.subplots(figsize=(6,8),dpi=100)\n",
    "# probplot returns the raw values if needed\n",
    "# we just want to see the plot, so we assign these values to _\n",
    "_ = sp.stats.probplot(test_residual,plot=ax)"
   ]
  },
  {
   "cell_type": "code",
   "execution_count": 67,
   "id": "3adebcb3",
   "metadata": {},
   "outputs": [
    {
     "data": {
      "text/plain": [
       "array([ 0.05475947,  0.11110453, -0.00941068])"
      ]
     },
     "execution_count": 67,
     "metadata": {},
     "output_type": "execute_result"
    }
   ],
   "source": [
    "model.coef_"
   ]
  },
  {
   "cell_type": "code",
   "execution_count": 68,
   "id": "56cd1777",
   "metadata": {},
   "outputs": [],
   "source": [
    "y_hat = model.predict(x)"
   ]
  },
  {
   "cell_type": "code",
   "execution_count": 69,
   "id": "059b44eb",
   "metadata": {},
   "outputs": [
    {
     "data": {
      "text/plain": [
       "Text(0.5, 1.0, 'Newspaper Spend')"
      ]
     },
     "execution_count": 69,
     "metadata": {},
     "output_type": "execute_result"
    },
    {
     "data": {
      "image/png": "[encoded data removed]",
      "text/plain": [
       "<Figure size 1152x432 with 3 Axes>"
      ]
     },
     "metadata": {
      "needs_background": "light"
     },
     "output_type": "display_data"
    }
   ],
   "source": [
    "fig,axes = plt.subplots(nrows=1, ncols=3, figsize=(16,6))\n",
    "\n",
    "axes[0].plot(df['TV'], df['Sales'], 'o')\n",
    "axes[0].plot(df['TV'], y_hat, 'o', color='red')\n",
    "axes[0].set_ylabel(\"Sales\")\n",
    "axes[0].set_title(\"TV Spend\")\n",
    "\n",
    "\n",
    "axes[1].plot(df['Radio'], df['Sales'], 'o')\n",
    "axes[1].plot(df['Radio'], y_hat, 'o', color='red')\n",
    "axes[1].set_ylabel(\"Sales\")\n",
    "axes[1].set_title(\"Radio Spend\")\n",
    "\n",
    "axes[2].plot(df['Newspaper'], df['Sales'], 'o')\n",
    "axes[2].plot(df['Newspaper'], y_hat, 'o', color='red')\n",
    "axes[2].set_ylabel(\"Sales\")\n",
    "axes[2].set_title(\"Newspaper Spend\")"
   ]
  },
  {
   "cell_type": "code",
   "execution_count": 70,
   "id": "0b5d3cfb",
   "metadata": {},
   "outputs": [],
   "source": [
    "from joblib import dump,load #saving your file as a binary file"
   ]
  },
  {
   "cell_type": "code",
   "execution_count": 73,
   "id": "1de8a43f",
   "metadata": {},
   "outputs": [],
   "source": [
    "import os"
   ]
  },
  {
   "cell_type": "code",
   "execution_count": 74,
   "id": "af15ee4d",
   "metadata": {},
   "outputs": [
    {
     "data": {
      "text/plain": [
       "['models\\\\model.joblib']"
      ]
     },
     "execution_count": 74,
     "metadata": {},
     "output_type": "execute_result"
    }
   ],
   "source": [
    "model_dir = \"models\"\n",
    "os.makedirs(model_dir, exist_ok=True)\n",
    "filepath = os.path.join(model_dir, 'model.joblib')\n",
    "dump(model, filepath)"
   ]
  },
  {
   "cell_type": "code",
   "execution_count": 75,
   "id": "9f4dfdbc",
   "metadata": {},
   "outputs": [],
   "source": [
    "load_model = load(r'C:\\Users\\USER\\Desktop\\Modcode\\ML_Live-_Class\\models\\model.joblib')"
   ]
  },
  {
   "cell_type": "code",
   "execution_count": 76,
   "id": "94175d4f",
   "metadata": {},
   "outputs": [
    {
     "data": {
      "text/plain": [
       "array([ 0.05475947,  0.11110453, -0.00941068])"
      ]
     },
     "execution_count": 76,
     "metadata": {},
     "output_type": "execute_result"
    }
   ],
   "source": [
    "load_model.coef_"
   ]
  },
  {
   "cell_type": "code",
   "execution_count": 79,
   "metadata": {},
   "outputs": [
    {
     "name": "stderr",
     "output_type": "stream",
     "text": [
      "c:\\Users\\USER\\anaconda3\\envs\\mltest\\lib\\site-packages\\sklearn\\base.py:451: UserWarning: X does not have valid feature names, but LinearRegression was fitted with feature names\n",
      "  \"X does not have valid feature names, but\"\n"
     ]
    },
    {
     "data": {
      "text/plain": [
       "array([15.50935889])"
      ]
     },
     "execution_count": 79,
     "metadata": {},
     "output_type": "execute_result"
    }
   ],
   "source": [
    "example = [[151,25,25]]\n",
    "load_model.predict(example)"
   ]
  },
  {
   "cell_type": "code",
   "execution_count": null,
   "id": "a07effe9",
   "metadata": {},
   "outputs": [],
   "source": [
    "# POLYNOMIAL REGRESSION"
   ]
  },
  {
   "cell_type": "code",
   "execution_count": 81,
   "id": "a1eb5c35",
   "metadata": {},
   "outputs": [
    {
     "data": {
      "text/plain": [
       "(200, 3)"
      ]
     },
     "execution_count": 81,
     "metadata": {},
     "output_type": "execute_result"
    }
   ],
   "source": [
    "x.shape"
   ]
  },
  {
   "cell_type": "code",
   "execution_count": 82,
   "id": "e3c3ba83",
   "metadata": {},
   "outputs": [],
   "source": [
    "from sklearn.preprocessing import PolynomialFeatures"
   ]
  },
  {
   "cell_type": "code",
   "execution_count": 83,
   "id": "46a96101",
   "metadata": {},
   "outputs": [],
   "source": [
    "poly_conv = PolynomialFeatures(degree=2, include_bias=False)"
   ]
  },
  {
   "cell_type": "code",
   "execution_count": 84,
   "id": "29050bba",
   "metadata": {},
   "outputs": [
    {
     "data": {
      "text/plain": [
       "PolynomialFeatures(include_bias=False)"
      ]
     },
     "execution_count": 84,
     "metadata": {},
     "output_type": "execute_result"
    }
   ],
   "source": [
    "poly_conv.fit(x)"
   ]
  },
  {
   "cell_type": "code",
   "execution_count": 85,
   "id": "969eaa9b",
   "metadata": {},
   "outputs": [],
   "source": [
    "poly_features = poly_conv.transform(x)"
   ]
  },
  {
   "cell_type": "code",
   "execution_count": 86,
   "id": "aa674f5d",
   "metadata": {},
   "outputs": [
    {
     "data": {
      "text/plain": [
       "(200, 9)"
      ]
     },
     "execution_count": 86,
     "metadata": {},
     "output_type": "execute_result"
    }
   ],
   "source": [
    "poly_features.shape"
   ]
  },
  {
   "cell_type": "code",
   "execution_count": 88,
   "id": "7f78ded6",
   "metadata": {},
   "outputs": [
    {
     "data": {
      "text/plain": [
       "TV           230.1\n",
       "Radio         37.8\n",
       "Newspaper     69.2\n",
       "Name: 0, dtype: float64"
      ]
     },
     "execution_count": 88,
     "metadata": {},
     "output_type": "execute_result"
    }
   ],
   "source": [
    "x.iloc[0]"
   ]
  },
  {
   "cell_type": "code",
   "execution_count": 90,
   "id": "5d5845b4",
   "metadata": {},
   "outputs": [
    {
     "data": {
      "text/plain": [
       "array([2.301000e+02, 3.780000e+01, 6.920000e+01, 5.294601e+04,\n",
       "       8.697780e+03, 1.592292e+04, 1.428840e+03, 2.615760e+03,\n",
       "       4.788640e+03])"
      ]
     },
     "execution_count": 90,
     "metadata": {},
     "output_type": "execute_result"
    }
   ],
   "source": [
    "poly_features[0]"
   ]
  },
  {
   "cell_type": "code",
   "execution_count": 92,
   "id": "23ef6516",
   "metadata": {},
   "outputs": [],
   "source": [
    "from sklearn.model_selection import train_test_split\n",
    "X_train, X_test, y_train, y_test = train_test_split (poly_features, y, test_size=0.33, random_state=101)"
   ]
  },
  {
   "cell_type": "code",
   "execution_count": 93,
   "id": "4e0f419a",
   "metadata": {},
   "outputs": [],
   "source": [
    "model1 = LinearRegression()"
   ]
  },
  {
   "cell_type": "code",
   "execution_count": 94,
   "id": "c436caa5",
   "metadata": {},
   "outputs": [
    {
     "data": {
      "text/plain": [
       "LinearRegression()"
      ]
     },
     "execution_count": 94,
     "metadata": {},
     "output_type": "execute_result"
    }
   ],
   "source": [
    "model1.fit(X_train, y_train)"
   ]
  },
  {
   "cell_type": "code",
   "execution_count": 95,
   "id": "0b7ead76",
   "metadata": {},
   "outputs": [
    {
     "data": {
      "text/plain": [
       "array([13.73729763, 21.18242466, 12.97653989, 16.27244745,  7.79428568,\n",
       "        6.47813374, 21.55709584, 19.05558564, 13.62613421, 20.39877403,\n",
       "        9.44075447, 16.42451527, 16.82940592, 22.24971165, 19.46358894,\n",
       "        8.90282654, 17.73280571, 11.31308152,  8.64294876, 21.57608009,\n",
       "        6.61232229, 19.00689629, 25.84046033, 23.74268557,  9.97077004,\n",
       "       15.75920731, 22.61124976,  9.32982871, 15.23795646,  8.6682003 ,\n",
       "        8.21736462, 20.36369594, 13.49526847,  6.14426598, 18.34430932,\n",
       "       11.23087521, 11.09784264, 11.33375233,  7.03022331, 14.41881459,\n",
       "       12.72794639, 13.40097257, 11.7977989 ,  6.79581202, 11.35779953,\n",
       "       10.41309567,  5.79923857, 17.90408814, 15.63037075, 21.726204  ,\n",
       "       10.06724947, 16.61367696, 18.91328201, 13.2336876 , 15.89845423,\n",
       "        5.17495242, 24.8538122 ,  9.64582131, 20.51131932, 16.82761506,\n",
       "       16.95408539, 24.61559276, 10.36701538, 20.73812635, 16.38802112,\n",
       "       22.01089092])"
      ]
     },
     "execution_count": 95,
     "metadata": {},
     "output_type": "execute_result"
    }
   ],
   "source": [
    "test_pred2 = model1.predict(X_test)\n",
    "test_pred2"
   ]
  },
  {
   "cell_type": "code",
   "execution_count": 96,
   "id": "bc9c8cb3",
   "metadata": {},
   "outputs": [],
   "source": [
    "from sklearn.metrics import mean_absolute_error, mean_squared_error"
   ]
  },
  {
   "cell_type": "code",
   "execution_count": 99,
   "id": "025af3b6",
   "metadata": {},
   "outputs": [
    {
     "data": {
      "text/plain": [
       "1.1665197484834124"
      ]
     },
     "execution_count": 99,
     "metadata": {},
     "output_type": "execute_result"
    }
   ],
   "source": [
    "MAE = mean_absolute_error(y_test, test_pred2)\n",
    "MAE"
   ]
  },
  {
   "cell_type": "code",
   "execution_count": 100,
   "id": "8835bf74",
   "metadata": {},
   "outputs": [
    {
     "data": {
      "text/plain": [
       "2.205682874607847"
      ]
     },
     "execution_count": 100,
     "metadata": {},
     "output_type": "execute_result"
    }
   ],
   "source": [
    "MSE = mean_squared_error(y_test, test_pred2)\n",
    "MSE"
   ]
  },
  {
   "cell_type": "code",
   "execution_count": 101,
   "id": "4df58003",
   "metadata": {},
   "outputs": [
    {
     "data": {
      "text/plain": [
       "1.4851541585329946"
      ]
     },
     "execution_count": 101,
     "metadata": {},
     "output_type": "execute_result"
    }
   ],
   "source": [
    "np.sqrt(MSE)"
   ]
  },
  {
   "cell_type": "code",
   "execution_count": 103,
   "id": "ba481475",
   "metadata": {},
   "outputs": [
    {
     "data": {
      "text/plain": [
       "array([ 7.70942584e-02, -2.35636076e-02, -4.29758910e-03, -1.07610956e-04,\n",
       "        5.03238675e-04, -8.46542155e-05,  1.16071503e-03,  1.34058536e-04,\n",
       "        1.28654587e-04])"
      ]
     },
     "execution_count": 103,
     "metadata": {},
     "output_type": "execute_result"
    }
   ],
   "source": [
    "model1.coef_"
   ]
  },
  {
   "cell_type": "code",
   "execution_count": 105,
   "id": "38ba89ef",
   "metadata": {},
   "outputs": [],
   "source": [
    "train_rmse_errors = []\n",
    "test_rmse_errors = []\n",
    "\n",
    "for d in range(1,10):\n",
    "    poly_converter = PolynomialFeatures(degree=d, include_bias=False)\n",
    "    poly_features = poly_converter.fit_transform(x)\n",
    "    X_train, X_test, y_train, y_test = train_test_split (poly_features, y, test_size=0.33, random_state=101)\n",
    "    model2 = LinearRegression()\n",
    "    model2.fit(X_train, y_train)\n",
    "\n",
    "\n",
    "    train_pred =model2.predict(X_train)\n",
    "    test_pred = model2.predict(X_test)\n",
    "\n",
    "    train_rmse = np.sqrt(mean_squared_error(y_train, train_pred))\n",
    "    test_rmse = np.sqrt(mean_squared_error(y_test, test_pred))\n",
    "\n",
    "    train_rmse_errors.append(train_rmse)\n",
    "    test_rmse_errors.append(test_rmse)"
   ]
  },
  {
   "cell_type": "code",
   "execution_count": 106,
   "id": "50061614",
   "metadata": {},
   "outputs": [
    {
     "data": {
      "text/plain": [
       "[1.6094199546576153,\n",
       " 1.296432681300953,\n",
       " 1.2343948527487951,\n",
       " 1.0594929481767363,\n",
       " 0.8891772577951299,\n",
       " 0.9081226185188078,\n",
       " 5.54485484416119,\n",
       " 1.1752732993754025,\n",
       " 0.2857125160659247]"
      ]
     },
     "execution_count": 106,
     "metadata": {},
     "output_type": "execute_result"
    }
   ],
   "source": [
    "train_rmse_errors"
   ]
  },
  {
   "cell_type": "code",
   "execution_count": 107,
   "id": "4ea422d4",
   "metadata": {},
   "outputs": [
    {
     "data": {
      "text/plain": [
       "[1.7556016945673003,\n",
       " 1.4851541585329946,\n",
       " 1.4877657821785526,\n",
       " 1.669168265378844,\n",
       " 2.1199374281109344,\n",
       " 36.5732706266427,\n",
       " 1938.877274715888,\n",
       " 5534.667995020976,\n",
       " 468982.9987687251]"
      ]
     },
     "execution_count": 107,
     "metadata": {},
     "output_type": "execute_result"
    }
   ],
   "source": [
    "test_rmse_errors  # overfitting is happening after the fifth degree (error is exploding)"
   ]
  },
  {
   "cell_type": "code",
   "execution_count": 109,
   "id": "39ac952e",
   "metadata": {},
   "outputs": [
    {
     "data": {
      "text/plain": [
       "<matplotlib.legend.Legend at 0x193683fa7b8>"
      ]
     },
     "execution_count": 109,
     "metadata": {},
     "output_type": "execute_result"
    },
    {
     "data": {
      "image/png": "[encoded data removed]",
      "text/plain": [
       "<Figure size 432x288 with 1 Axes>"
      ]
     },
     "metadata": {
      "needs_background": "light"
     },
     "output_type": "display_data"
    }
   ],
   "source": [
    "plt.plot(range(1,6), train_rmse_errors[:5], label ='TRAIN_RMSE')\n",
    "plt.plot(range(1,6), test_rmse_errors[:5], label ='TEST_RMSE')\n",
    "plt.xlabel(\"Model complexity/ degree of polynomial\")\n",
    "plt.ylabel(\"RMSE\")\n",
    "plt.legend()\n",
    "# you choose the 2nd degree"
   ]
  },
  {
   "cell_type": "code",
   "execution_count": 110,
   "id": "f1f5ee6b",
   "metadata": {},
   "outputs": [
    {
     "data": {
      "text/plain": [
       "<matplotlib.legend.Legend at 0x193680a6550>"
      ]
     },
     "execution_count": 110,
     "metadata": {},
     "output_type": "execute_result"
    },
    {
     "data": {
      "image/png": "[encoded data removed]",
      "text/plain": [
       "<Figure size 432x288 with 1 Axes>"
      ]
     },
     "metadata": {
      "needs_background": "light"
     },
     "output_type": "display_data"
    }
   ],
   "source": [
    "plt.plot(range(1,10), train_rmse_errors, label ='TRAIN_RMSE')\n",
    "plt.plot(range(1,10), test_rmse_errors, label ='TEST_RMSE')\n",
    "plt.xlabel(\"Model complexity/ degree of polynomial\")\n",
    "plt.ylabel(\"RMSE\")\n",
    "plt.legend()"
   ]
  },
  {
   "cell_type": "code",
   "execution_count": 111,
   "id": "4ecfc36e",
   "metadata": {},
   "outputs": [],
   "source": [
    "finaly_poly_converter = PolynomialFeatures(degree=3, include_bias=False)\n",
    "final_model = LinearRegression()\n"
   ]
  },
  {
   "cell_type": "code",
   "execution_count": 112,
   "id": "5a5a0596",
   "metadata": {},
   "outputs": [],
   "source": [
    "full_converted_x = finaly_poly_converter.fit_transform(x)"
   ]
  },
  {
   "cell_type": "code",
   "execution_count": 114,
   "id": "02e7f61c",
   "metadata": {},
   "outputs": [
    {
     "data": {
      "text/plain": [
       "LinearRegression()"
      ]
     },
     "execution_count": 114,
     "metadata": {},
     "output_type": "execute_result"
    }
   ],
   "source": [
    "final_model.fit(full_converted_x, y)"
   ]
  },
  {
   "cell_type": "code",
   "execution_count": 115,
   "id": "f0cdd0e0",
   "metadata": {},
   "outputs": [
    {
     "data": {
      "text/plain": [
       "['models\\\\poly3.joblib']"
      ]
     },
     "execution_count": 115,
     "metadata": {},
     "output_type": "execute_result"
    }
   ],
   "source": [
    "model_dir = \"models\"\n",
    "os.makedirs(model_dir, exist_ok=True)\n",
    "filepath = os.path.join(model_dir, 'poly3.joblib')\n",
    "dump(final_model, filepath)"
   ]
  },
  {
   "cell_type": "code",
   "execution_count": null,
   "id": "a014a8fc",
   "metadata": {},
   "outputs": [],
   "source": []
  },
  {
   "cell_type": "code",
   "execution_count": null,
   "id": "17137f48",
   "metadata": {},
   "outputs": [],
   "source": []
  }
 ],
 "metadata": {
  "kernelspec": {
   "display_name": "Python 3.7.0 ('mltest')",
   "language": "python",
   "name": "python3"
  },
  "language_info": {
   "codemirror_mode": {
    "name": "ipython",
    "version": 3
   },
   "file_extension": ".py",
   "mimetype": "text/x-python",
   "name": "python",
   "nbconvert_exporter": "python",
   "pygments_lexer": "ipython3",
   "version": "3.7.0"
  },
  "vscode": {
   "interpreter": {
    "hash": "52a4d877ffcfd1b087fbf07d227ba16e194391add6389c0fe329abd3a19e5b8f"
   }
  }
 },
 "nbformat": 4,
 "nbformat_minor": 5
}
