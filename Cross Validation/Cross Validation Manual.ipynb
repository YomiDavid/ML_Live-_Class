{
 "cells": [
  {
   "cell_type": "code",
   "execution_count": 5,
   "id": "639c4d1b",
   "metadata": {},
   "outputs": [
    {
     "name": "stderr",
     "output_type": "stream",
     "text": [
      "c:\\Users\\USER\\anaconda3\\envs\\mltest\\lib\\importlib\\_bootstrap.py:219: RuntimeWarning: numpy.ufunc size changed, may indicate binary incompatibility. Expected 192 from C header, got 216 from PyObject\n",
      "  return f(*args, **kwds)\n"
     ]
    }
   ],
   "source": [
    "import numpy as np\n",
    "import pandas as pd\n",
    "import matplotlib.pyplot as plt"
   ]
  },
  {
   "cell_type": "code",
   "execution_count": 6,
   "id": "87f47ef3",
   "metadata": {},
   "outputs": [],
   "source": [
    "df = pd.read_csv(r'C:\\Users\\USER\\Desktop\\Modcode\\ML_Live-_Class\\data\\advertising.csv')"
   ]
  },
  {
   "cell_type": "code",
   "execution_count": 7,
   "id": "86f461e9",
   "metadata": {},
   "outputs": [
    {
     "data": {
      "text/html": [
       "<div>\n",
       "<style scoped>\n",
       "    .dataframe tbody tr th:only-of-type {\n",
       "        vertical-align: middle;\n",
       "    }\n",
       "\n",
       "    .dataframe tbody tr th {\n",
       "        vertical-align: top;\n",
       "    }\n",
       "\n",
       "    .dataframe thead th {\n",
       "        text-align: right;\n",
       "    }\n",
       "</style>\n",
       "<table border=\"1\" class=\"dataframe\">\n",
       "  <thead>\n",
       "    <tr style=\"text-align: right;\">\n",
       "      <th></th>\n",
       "      <th>TV</th>\n",
       "      <th>Radio</th>\n",
       "      <th>Newspaper</th>\n",
       "      <th>Sales</th>\n",
       "    </tr>\n",
       "  </thead>\n",
       "  <tbody>\n",
       "    <tr>\n",
       "      <th>0</th>\n",
       "      <td>230.1</td>\n",
       "      <td>37.8</td>\n",
       "      <td>69.2</td>\n",
       "      <td>22.1</td>\n",
       "    </tr>\n",
       "    <tr>\n",
       "      <th>1</th>\n",
       "      <td>44.5</td>\n",
       "      <td>39.3</td>\n",
       "      <td>45.1</td>\n",
       "      <td>10.4</td>\n",
       "    </tr>\n",
       "    <tr>\n",
       "      <th>2</th>\n",
       "      <td>17.2</td>\n",
       "      <td>45.9</td>\n",
       "      <td>69.3</td>\n",
       "      <td>12.0</td>\n",
       "    </tr>\n",
       "    <tr>\n",
       "      <th>3</th>\n",
       "      <td>151.5</td>\n",
       "      <td>41.3</td>\n",
       "      <td>58.5</td>\n",
       "      <td>16.5</td>\n",
       "    </tr>\n",
       "    <tr>\n",
       "      <th>4</th>\n",
       "      <td>180.8</td>\n",
       "      <td>10.8</td>\n",
       "      <td>58.4</td>\n",
       "      <td>17.9</td>\n",
       "    </tr>\n",
       "  </tbody>\n",
       "</table>\n",
       "</div>"
      ],
      "text/plain": [
       "      TV  Radio  Newspaper  Sales\n",
       "0  230.1   37.8       69.2   22.1\n",
       "1   44.5   39.3       45.1   10.4\n",
       "2   17.2   45.9       69.3   12.0\n",
       "3  151.5   41.3       58.5   16.5\n",
       "4  180.8   10.8       58.4   17.9"
      ]
     },
     "execution_count": 7,
     "metadata": {},
     "output_type": "execute_result"
    }
   ],
   "source": [
    "df.head()"
   ]
  },
  {
   "cell_type": "code",
   "execution_count": 8,
   "id": "7507ce69",
   "metadata": {},
   "outputs": [],
   "source": [
    "X =df.drop('Sales',axis=1)"
   ]
  },
  {
   "cell_type": "code",
   "execution_count": 9,
   "id": "6b65a6c9",
   "metadata": {},
   "outputs": [],
   "source": [
    "Y = df['Sales']"
   ]
  },
  {
   "cell_type": "code",
   "execution_count": 10,
   "id": "3cd45457",
   "metadata": {},
   "outputs": [
    {
     "data": {
      "text/html": [
       "<div>\n",
       "<style scoped>\n",
       "    .dataframe tbody tr th:only-of-type {\n",
       "        vertical-align: middle;\n",
       "    }\n",
       "\n",
       "    .dataframe tbody tr th {\n",
       "        vertical-align: top;\n",
       "    }\n",
       "\n",
       "    .dataframe thead th {\n",
       "        text-align: right;\n",
       "    }\n",
       "</style>\n",
       "<table border=\"1\" class=\"dataframe\">\n",
       "  <thead>\n",
       "    <tr style=\"text-align: right;\">\n",
       "      <th></th>\n",
       "      <th>TV</th>\n",
       "      <th>Radio</th>\n",
       "      <th>Newspaper</th>\n",
       "    </tr>\n",
       "  </thead>\n",
       "  <tbody>\n",
       "    <tr>\n",
       "      <th>0</th>\n",
       "      <td>230.1</td>\n",
       "      <td>37.8</td>\n",
       "      <td>69.2</td>\n",
       "    </tr>\n",
       "    <tr>\n",
       "      <th>1</th>\n",
       "      <td>44.5</td>\n",
       "      <td>39.3</td>\n",
       "      <td>45.1</td>\n",
       "    </tr>\n",
       "    <tr>\n",
       "      <th>2</th>\n",
       "      <td>17.2</td>\n",
       "      <td>45.9</td>\n",
       "      <td>69.3</td>\n",
       "    </tr>\n",
       "    <tr>\n",
       "      <th>3</th>\n",
       "      <td>151.5</td>\n",
       "      <td>41.3</td>\n",
       "      <td>58.5</td>\n",
       "    </tr>\n",
       "    <tr>\n",
       "      <th>4</th>\n",
       "      <td>180.8</td>\n",
       "      <td>10.8</td>\n",
       "      <td>58.4</td>\n",
       "    </tr>\n",
       "  </tbody>\n",
       "</table>\n",
       "</div>"
      ],
      "text/plain": [
       "      TV  Radio  Newspaper\n",
       "0  230.1   37.8       69.2\n",
       "1   44.5   39.3       45.1\n",
       "2   17.2   45.9       69.3\n",
       "3  151.5   41.3       58.5\n",
       "4  180.8   10.8       58.4"
      ]
     },
     "execution_count": 10,
     "metadata": {},
     "output_type": "execute_result"
    }
   ],
   "source": [
    "X.head()"
   ]
  },
  {
   "cell_type": "code",
   "execution_count": 11,
   "id": "429ef601",
   "metadata": {},
   "outputs": [],
   "source": [
    "from sklearn.model_selection import train_test_split"
   ]
  },
  {
   "cell_type": "code",
   "execution_count": 12,
   "id": "dc9efc97",
   "metadata": {},
   "outputs": [],
   "source": [
    "X_train, X_test, Y_train, Y_test = train_test_split(X, Y, test_size=0.3, random_state=101)"
   ]
  },
  {
   "cell_type": "code",
   "execution_count": 13,
   "id": "ec76a37d",
   "metadata": {},
   "outputs": [],
   "source": [
    "#use z-score to scale data\n",
    "from sklearn.preprocessing import StandardScaler"
   ]
  },
  {
   "cell_type": "code",
   "execution_count": 14,
   "id": "ccef64e7",
   "metadata": {},
   "outputs": [],
   "source": [
    "scaler = StandardScaler()"
   ]
  },
  {
   "cell_type": "code",
   "execution_count": 15,
   "id": "8e555e0e",
   "metadata": {},
   "outputs": [
    {
     "data": {
      "text/plain": [
       "StandardScaler()"
      ]
     },
     "execution_count": 15,
     "metadata": {},
     "output_type": "execute_result"
    }
   ],
   "source": [
    "scaler.fit(X_train)  #scaling fitting is done only on training data"
   ]
  },
  {
   "cell_type": "code",
   "execution_count": 16,
   "id": "3d1aaa67",
   "metadata": {},
   "outputs": [],
   "source": [
    "#transformation is done in order to assign the results from zscore scaling\n",
    "X_train = scaler.transform(X_train)"
   ]
  },
  {
   "cell_type": "code",
   "execution_count": 17,
   "id": "9bb293a5",
   "metadata": {},
   "outputs": [],
   "source": [
    "X_test = scaler.transform(X_test)"
   ]
  },
  {
   "cell_type": "code",
   "execution_count": 18,
   "id": "97cd9d64",
   "metadata": {},
   "outputs": [],
   "source": [
    "from sklearn.linear_model import Ridge"
   ]
  },
  {
   "cell_type": "code",
   "execution_count": 19,
   "id": "ca2932e6",
   "metadata": {},
   "outputs": [],
   "source": [
    "model = Ridge(alpha=100)\n",
    "# alpha parameter is important as it helps to control regularization"
   ]
  },
  {
   "cell_type": "code",
   "execution_count": 20,
   "id": "b53f883c",
   "metadata": {},
   "outputs": [
    {
     "data": {
      "text/plain": [
       "Ridge(alpha=100)"
      ]
     },
     "execution_count": 20,
     "metadata": {},
     "output_type": "execute_result"
    }
   ],
   "source": [
    "model.fit(X_train,Y_train)"
   ]
  },
  {
   "cell_type": "code",
   "execution_count": 21,
   "id": "66ab1fb4",
   "metadata": {},
   "outputs": [],
   "source": [
    "y_pred = model.predict(X_test)"
   ]
  },
  {
   "cell_type": "code",
   "execution_count": 22,
   "id": "33dc7a1d",
   "metadata": {},
   "outputs": [],
   "source": [
    "from sklearn.metrics import mean_squared_error"
   ]
  },
  {
   "cell_type": "code",
   "execution_count": 23,
   "id": "d2db6711",
   "metadata": {},
   "outputs": [
    {
     "data": {
      "text/plain": [
       "6.81366220966776"
      ]
     },
     "execution_count": 23,
     "metadata": {},
     "output_type": "execute_result"
    }
   ],
   "source": [
    "MSE = mean_squared_error(Y_test, y_pred)\n",
    "MSE"
   ]
  },
  {
   "cell_type": "code",
   "execution_count": 24,
   "id": "be964aff",
   "metadata": {},
   "outputs": [
    {
     "data": {
      "text/plain": [
       "2.610299256726661"
      ]
     },
     "execution_count": 24,
     "metadata": {},
     "output_type": "execute_result"
    }
   ],
   "source": [
    "RMSE = np.sqrt(MSE)\n",
    "RMSE"
   ]
  },
  {
   "cell_type": "code",
   "execution_count": 25,
   "id": "a5899a18",
   "metadata": {},
   "outputs": [],
   "source": [
    "model2 = Ridge(alpha=1)"
   ]
  },
  {
   "cell_type": "code",
   "execution_count": 26,
   "id": "df4c8ae8",
   "metadata": {},
   "outputs": [
    {
     "data": {
      "text/plain": [
       "Ridge(alpha=1)"
      ]
     },
     "execution_count": 26,
     "metadata": {},
     "output_type": "execute_result"
    }
   ],
   "source": [
    "model2.fit(X_train, Y_train)"
   ]
  },
  {
   "cell_type": "code",
   "execution_count": 27,
   "id": "bb417cc5",
   "metadata": {},
   "outputs": [],
   "source": [
    "pred_y = model2.predict(X_test)"
   ]
  },
  {
   "cell_type": "code",
   "execution_count": 28,
   "id": "e1a5d8d4",
   "metadata": {},
   "outputs": [
    {
     "data": {
      "text/plain": [
       "2.8554378608814437"
      ]
     },
     "execution_count": 28,
     "metadata": {},
     "output_type": "execute_result"
    }
   ],
   "source": [
    "MSE2 = mean_squared_error(Y_test, pred_y)\n",
    "MSE2"
   ]
  },
  {
   "cell_type": "code",
   "execution_count": 29,
   "id": "524fc08b",
   "metadata": {},
   "outputs": [
    {
     "data": {
      "text/plain": [
       "1.6898040894971949"
      ]
     },
     "execution_count": 29,
     "metadata": {},
     "output_type": "execute_result"
    }
   ],
   "source": [
    "RMSE2 = np.sqrt(MSE2)\n",
    "RMSE2"
   ]
  },
  {
   "cell_type": "code",
   "execution_count": 30,
   "id": "ab295c69",
   "metadata": {},
   "outputs": [],
   "source": [
    "# TRYING TO DO CROSS VALIDATION MANUALLY ITHOUT THE HELP OF CROSS-VAL-\n",
    "\n",
    "X_train, X_other, Y_train, Y_other = train_test_split(X, Y, test_size=0.3, random_state=101)"
   ]
  },
  {
   "cell_type": "code",
   "execution_count": 31,
   "id": "68aff61b",
   "metadata": {},
   "outputs": [],
   "source": [
    "# then split the 30% into 50% of other data\n",
    "X_eval, X_test, Y_eval, Y_test = train_test_split(X_other, Y_other, test_size=0.5, random_state=101)"
   ]
  },
  {
   "cell_type": "code",
   "execution_count": 32,
   "id": "d2566189",
   "metadata": {},
   "outputs": [
    {
     "data": {
      "text/plain": [
       "30"
      ]
     },
     "execution_count": 32,
     "metadata": {},
     "output_type": "execute_result"
    }
   ],
   "source": [
    "len(X_eval)\n",
    "len(X_test)"
   ]
  },
  {
   "cell_type": "code",
   "execution_count": 33,
   "id": "b19685e9",
   "metadata": {},
   "outputs": [],
   "source": [
    "X_train = scaler.transform(X_train)"
   ]
  },
  {
   "cell_type": "code",
   "execution_count": 34,
   "id": "183685b6",
   "metadata": {},
   "outputs": [],
   "source": [
    "X_eval= scaler.transform(X_eval)  # validation data"
   ]
  },
  {
   "cell_type": "code",
   "execution_count": 35,
   "id": "8fb46111",
   "metadata": {},
   "outputs": [],
   "source": [
    "X_test = scaler.transform(X_test)"
   ]
  },
  {
   "cell_type": "code",
   "execution_count": 36,
   "id": "e0c558de",
   "metadata": {},
   "outputs": [],
   "source": [
    "model3 = Ridge(alpha = 100)"
   ]
  },
  {
   "cell_type": "code",
   "execution_count": 37,
   "id": "d6481bb5",
   "metadata": {},
   "outputs": [
    {
     "data": {
      "text/plain": [
       "Ridge(alpha=100)"
      ]
     },
     "execution_count": 37,
     "metadata": {},
     "output_type": "execute_result"
    }
   ],
   "source": [
    "model3.fit(X_train,Y_train)"
   ]
  },
  {
   "cell_type": "code",
   "execution_count": 38,
   "id": "b61c5a87",
   "metadata": {},
   "outputs": [],
   "source": [
    "y_pred_eval = model3.predict(X_eval)"
   ]
  },
  {
   "cell_type": "code",
   "execution_count": 39,
   "id": "38f935f1",
   "metadata": {},
   "outputs": [
    {
     "data": {
      "text/plain": [
       "7.307167964801232"
      ]
     },
     "execution_count": 39,
     "metadata": {},
     "output_type": "execute_result"
    }
   ],
   "source": [
    "MSE3 = mean_squared_error(y_pred_eval, Y_eval)\n",
    "MSE3"
   ]
  },
  {
   "cell_type": "code",
   "execution_count": 40,
   "id": "ce126c0f",
   "metadata": {},
   "outputs": [],
   "source": [
    "model4 = Ridge(alpha = 1)"
   ]
  },
  {
   "cell_type": "code",
   "execution_count": 41,
   "id": "e1b9aa3e",
   "metadata": {},
   "outputs": [
    {
     "data": {
      "text/plain": [
       "Ridge(alpha=1)"
      ]
     },
     "execution_count": 41,
     "metadata": {},
     "output_type": "execute_result"
    }
   ],
   "source": [
    "model4.fit(X_train,Y_train)"
   ]
  },
  {
   "cell_type": "code",
   "execution_count": 42,
   "id": "18449f82",
   "metadata": {},
   "outputs": [],
   "source": [
    "y_pred_eval4 = model4.predict(X_eval)"
   ]
  },
  {
   "cell_type": "code",
   "execution_count": 43,
   "id": "4db84967",
   "metadata": {},
   "outputs": [
    {
     "data": {
      "text/plain": [
       "3.0311062171302194"
      ]
     },
     "execution_count": 43,
     "metadata": {},
     "output_type": "execute_result"
    }
   ],
   "source": [
    "MSE4 = mean_squared_error(y_pred_eval4, Y_eval)\n",
    "MSE4"
   ]
  },
  {
   "cell_type": "code",
   "execution_count": 44,
   "id": "b6c9abfe",
   "metadata": {},
   "outputs": [
    {
     "data": {
      "text/plain": [
       "1.7410072421245752"
      ]
     },
     "execution_count": 44,
     "metadata": {},
     "output_type": "execute_result"
    }
   ],
   "source": [
    "RMSE4 = np.sqrt(MSE4)\n",
    "RMSE4"
   ]
  },
  {
   "cell_type": "code",
   "execution_count": 45,
   "id": "eb5d913d",
   "metadata": {},
   "outputs": [],
   "source": [
    "y_final = model4.predict(X_test)"
   ]
  },
  {
   "cell_type": "code",
   "execution_count": 46,
   "id": "7017b6ff",
   "metadata": {},
   "outputs": [
    {
     "data": {
      "text/plain": [
       "2.679769504632666"
      ]
     },
     "execution_count": 46,
     "metadata": {},
     "output_type": "execute_result"
    }
   ],
   "source": [
    "MSE5 = mean_squared_error(y_final, Y_test)\n",
    "MSE5"
   ]
  },
  {
   "cell_type": "code",
   "execution_count": 47,
   "id": "6b19a902",
   "metadata": {},
   "outputs": [
    {
     "data": {
      "text/plain": [
       "1.6370001541333667"
      ]
     },
     "execution_count": 47,
     "metadata": {},
     "output_type": "execute_result"
    }
   ],
   "source": [
    "RMSE5 = np.sqrt(MSE5)    # for traning testing validation case\n",
    "RMSE5"
   ]
  },
  {
   "cell_type": "code",
   "execution_count": 48,
   "id": "a3a6653d",
   "metadata": {},
   "outputs": [],
   "source": [
    "##CODE IMPLEMENTATION\n",
    "# For code implementation imagine that all you have done is\n",
    "# create X and Y , train-test-split, and scale your data\n",
    "# scaling; fit training data, transform training and test data. "
   ]
  },
  {
   "cell_type": "code",
   "execution_count": 50,
   "id": "a90d99e0",
   "metadata": {},
   "outputs": [],
   "source": [
    "model = Ridge(alpha=100)"
   ]
  },
  {
   "cell_type": "code",
   "execution_count": 49,
   "id": "44799678",
   "metadata": {},
   "outputs": [],
   "source": [
    "from sklearn.model_selection import cross_val_score"
   ]
  },
  {
   "cell_type": "code",
   "execution_count": 51,
   "id": "d9797711",
   "metadata": {},
   "outputs": [],
   "source": [
    "scores = cross_val_score(model, X_train, Y_train, scoring='neg_mean_squared_error', cv=5)"
   ]
  },
  {
   "cell_type": "code",
   "execution_count": 52,
   "id": "4485b42b",
   "metadata": {},
   "outputs": [
    {
     "data": {
      "text/plain": [
       "array([-10.30932408,  -4.93817737, -10.07075886,  -8.82851134,\n",
       "        -7.94465515])"
      ]
     },
     "execution_count": 52,
     "metadata": {},
     "output_type": "execute_result"
    }
   ],
   "source": [
    "scores"
   ]
  },
  {
   "cell_type": "code",
   "execution_count": 53,
   "id": "3bff7218",
   "metadata": {},
   "outputs": [
    {
     "data": {
      "text/plain": [
       "8.418285357914199"
      ]
     },
     "execution_count": 53,
     "metadata": {},
     "output_type": "execute_result"
    }
   ],
   "source": [
    "abs(scores.mean())"
   ]
  },
  {
   "cell_type": "code",
   "execution_count": 54,
   "id": "c5b7eea4",
   "metadata": {},
   "outputs": [],
   "source": [
    "mode6 = Ridge(alpha=1)"
   ]
  },
  {
   "cell_type": "code",
   "execution_count": 56,
   "id": "309f1df4",
   "metadata": {},
   "outputs": [
    {
     "data": {
      "text/plain": [
       "array([-3.77037806, -0.9534648 , -4.55448383, -2.28781819, -2.41358744])"
      ]
     },
     "execution_count": 56,
     "metadata": {},
     "output_type": "execute_result"
    }
   ],
   "source": [
    "scores2 = cross_val_score(mode6, X_train, Y_train, scoring='neg_mean_squared_error', cv=5)\n",
    "scores2"
   ]
  },
  {
   "cell_type": "code",
   "execution_count": 57,
   "id": "e7269a72",
   "metadata": {},
   "outputs": [
    {
     "data": {
      "text/plain": [
       "2.7959464646044743"
      ]
     },
     "execution_count": 57,
     "metadata": {},
     "output_type": "execute_result"
    }
   ],
   "source": [
    "abs(scores2.mean())"
   ]
  },
  {
   "cell_type": "code",
   "execution_count": 58,
   "id": "8ee8961f",
   "metadata": {},
   "outputs": [
    {
     "data": {
      "text/plain": [
       "Ridge(alpha=1)"
      ]
     },
     "execution_count": 58,
     "metadata": {},
     "output_type": "execute_result"
    }
   ],
   "source": [
    "mode6.fit(X_train, Y_train)"
   ]
  },
  {
   "cell_type": "code",
   "execution_count": 59,
   "id": "1dcca676",
   "metadata": {},
   "outputs": [],
   "source": [
    "y_again = mode6.predict(X_test)"
   ]
  },
  {
   "cell_type": "code",
   "execution_count": 60,
   "id": "b44dd39d",
   "metadata": {},
   "outputs": [
    {
     "data": {
      "text/plain": [
       "2.679769504632666"
      ]
     },
     "execution_count": 60,
     "metadata": {},
     "output_type": "execute_result"
    }
   ],
   "source": [
    "MSE6 = mean_squared_error(y_again, Y_test)\n",
    "MSE6"
   ]
  },
  {
   "cell_type": "code",
   "execution_count": null,
   "id": "6247330e",
   "metadata": {},
   "outputs": [],
   "source": [
    "##CODE IMPLEMENTATION  cross validate\n",
    "# For code implementation imagine that all you have done is\n",
    "# create X and Y , train-test-split, and scale your data\n",
    "# scaling; fit training data, transform training and test data. "
   ]
  },
  {
   "cell_type": "code",
   "execution_count": 61,
   "id": "7f32017c",
   "metadata": {},
   "outputs": [],
   "source": [
    "from sklearn.model_selection import cross_validate"
   ]
  },
  {
   "cell_type": "code",
   "execution_count": 62,
   "id": "dc1fa226",
   "metadata": {},
   "outputs": [],
   "source": [
    "model = Ridge(alpha=100)"
   ]
  },
  {
   "cell_type": "code",
   "execution_count": 65,
   "id": "52d1ce6a",
   "metadata": {},
   "outputs": [],
   "source": [
    "scores = cross_validate(model,X_train,Y_train, scoring =['neg_mean_squared_error','neg_mean_absolute_error'], cv=5)"
   ]
  },
  {
   "cell_type": "code",
   "execution_count": 67,
   "id": "03d800df",
   "metadata": {},
   "outputs": [
    {
     "data": {
      "text/html": [
       "<div>\n",
       "<style scoped>\n",
       "    .dataframe tbody tr th:only-of-type {\n",
       "        vertical-align: middle;\n",
       "    }\n",
       "\n",
       "    .dataframe tbody tr th {\n",
       "        vertical-align: top;\n",
       "    }\n",
       "\n",
       "    .dataframe thead th {\n",
       "        text-align: right;\n",
       "    }\n",
       "</style>\n",
       "<table border=\"1\" class=\"dataframe\">\n",
       "  <thead>\n",
       "    <tr style=\"text-align: right;\">\n",
       "      <th></th>\n",
       "      <th>fit_time</th>\n",
       "      <th>score_time</th>\n",
       "      <th>test_neg_mean_squared_error</th>\n",
       "      <th>test_neg_mean_absolute_error</th>\n",
       "    </tr>\n",
       "  </thead>\n",
       "  <tbody>\n",
       "    <tr>\n",
       "      <th>0</th>\n",
       "      <td>0.002996</td>\n",
       "      <td>0.000999</td>\n",
       "      <td>-10.309324</td>\n",
       "      <td>-2.639288</td>\n",
       "    </tr>\n",
       "    <tr>\n",
       "      <th>1</th>\n",
       "      <td>0.001999</td>\n",
       "      <td>0.001999</td>\n",
       "      <td>-4.938177</td>\n",
       "      <td>-1.854095</td>\n",
       "    </tr>\n",
       "    <tr>\n",
       "      <th>2</th>\n",
       "      <td>0.001999</td>\n",
       "      <td>0.000999</td>\n",
       "      <td>-10.070759</td>\n",
       "      <td>-2.305223</td>\n",
       "    </tr>\n",
       "    <tr>\n",
       "      <th>3</th>\n",
       "      <td>0.001998</td>\n",
       "      <td>0.001001</td>\n",
       "      <td>-8.828511</td>\n",
       "      <td>-2.493474</td>\n",
       "    </tr>\n",
       "    <tr>\n",
       "      <th>4</th>\n",
       "      <td>0.000999</td>\n",
       "      <td>0.000999</td>\n",
       "      <td>-7.944655</td>\n",
       "      <td>-2.156907</td>\n",
       "    </tr>\n",
       "  </tbody>\n",
       "</table>\n",
       "</div>"
      ],
      "text/plain": [
       "   fit_time  score_time  test_neg_mean_squared_error  \\\n",
       "0  0.002996    0.000999                   -10.309324   \n",
       "1  0.001999    0.001999                    -4.938177   \n",
       "2  0.001999    0.000999                   -10.070759   \n",
       "3  0.001998    0.001001                    -8.828511   \n",
       "4  0.000999    0.000999                    -7.944655   \n",
       "\n",
       "   test_neg_mean_absolute_error  \n",
       "0                     -2.639288  \n",
       "1                     -1.854095  \n",
       "2                     -2.305223  \n",
       "3                     -2.493474  \n",
       "4                     -2.156907  "
      ]
     },
     "execution_count": 67,
     "metadata": {},
     "output_type": "execute_result"
    }
   ],
   "source": [
    "scores = pd.DataFrame(scores)\n",
    "scores"
   ]
  },
  {
   "cell_type": "code",
   "execution_count": 68,
   "id": "393b8907",
   "metadata": {},
   "outputs": [
    {
     "data": {
      "text/plain": [
       "fit_time                        0.001998\n",
       "score_time                      0.001199\n",
       "test_neg_mean_squared_error    -8.418285\n",
       "test_neg_mean_absolute_error   -2.289798\n",
       "dtype: float64"
      ]
     },
     "execution_count": 68,
     "metadata": {},
     "output_type": "execute_result"
    }
   ],
   "source": [
    "scores.mean()"
   ]
  },
  {
   "cell_type": "code",
   "execution_count": 69,
   "id": "a8769f92",
   "metadata": {},
   "outputs": [],
   "source": [
    "model2 = Ridge(alpha=1)"
   ]
  },
  {
   "cell_type": "code",
   "execution_count": 70,
   "id": "e7749e90",
   "metadata": {},
   "outputs": [
    {
     "data": {
      "text/plain": [
       "{'fit_time': array([0.00199962, 0.00299907, 0.00199819, 0.00099945, 0.0019989 ,\n",
       "        0.00199866, 0.00199962, 0.00199819, 0.00199962, 0.00199795]),\n",
       " 'score_time': array([0.00199819, 0.00099874, 0.00100064, 0.00099945, 0.00199866,\n",
       "        0.00199771, 0.00099874, 0.00099945, 0.00299859, 0.00099993]),\n",
       " 'test_neg_mean_squared_error': array([-3.02991681, -4.42586394, -0.44421385, -1.32078483, -2.32924394,\n",
       "        -7.369311  , -2.28250744, -2.40040874, -3.08212435, -1.57719045]),\n",
       " 'test_neg_mean_absolute_error': array([-1.30463013, -1.60669806, -0.60552148, -0.99064582, -1.15013641,\n",
       "        -1.80554984, -1.18441501, -1.23593123, -1.30283362, -1.05383501])}"
      ]
     },
     "execution_count": 70,
     "metadata": {},
     "output_type": "execute_result"
    }
   ],
   "source": [
    "scores2 = cross_validate(model2,X_train,Y_train, scoring =['neg_mean_squared_error','neg_mean_absolute_error'], cv=10)\n",
    "scores2"
   ]
  },
  {
   "cell_type": "code",
   "execution_count": 71,
   "id": "2d415bde",
   "metadata": {},
   "outputs": [
    {
     "data": {
      "text/html": [
       "<div>\n",
       "<style scoped>\n",
       "    .dataframe tbody tr th:only-of-type {\n",
       "        vertical-align: middle;\n",
       "    }\n",
       "\n",
       "    .dataframe tbody tr th {\n",
       "        vertical-align: top;\n",
       "    }\n",
       "\n",
       "    .dataframe thead th {\n",
       "        text-align: right;\n",
       "    }\n",
       "</style>\n",
       "<table border=\"1\" class=\"dataframe\">\n",
       "  <thead>\n",
       "    <tr style=\"text-align: right;\">\n",
       "      <th></th>\n",
       "      <th>fit_time</th>\n",
       "      <th>score_time</th>\n",
       "      <th>test_neg_mean_squared_error</th>\n",
       "      <th>test_neg_mean_absolute_error</th>\n",
       "    </tr>\n",
       "  </thead>\n",
       "  <tbody>\n",
       "    <tr>\n",
       "      <th>0</th>\n",
       "      <td>0.002000</td>\n",
       "      <td>0.001998</td>\n",
       "      <td>-3.029917</td>\n",
       "      <td>-1.304630</td>\n",
       "    </tr>\n",
       "    <tr>\n",
       "      <th>1</th>\n",
       "      <td>0.002999</td>\n",
       "      <td>0.000999</td>\n",
       "      <td>-4.425864</td>\n",
       "      <td>-1.606698</td>\n",
       "    </tr>\n",
       "    <tr>\n",
       "      <th>2</th>\n",
       "      <td>0.001998</td>\n",
       "      <td>0.001001</td>\n",
       "      <td>-0.444214</td>\n",
       "      <td>-0.605521</td>\n",
       "    </tr>\n",
       "    <tr>\n",
       "      <th>3</th>\n",
       "      <td>0.000999</td>\n",
       "      <td>0.000999</td>\n",
       "      <td>-1.320785</td>\n",
       "      <td>-0.990646</td>\n",
       "    </tr>\n",
       "    <tr>\n",
       "      <th>4</th>\n",
       "      <td>0.001999</td>\n",
       "      <td>0.001999</td>\n",
       "      <td>-2.329244</td>\n",
       "      <td>-1.150136</td>\n",
       "    </tr>\n",
       "    <tr>\n",
       "      <th>5</th>\n",
       "      <td>0.001999</td>\n",
       "      <td>0.001998</td>\n",
       "      <td>-7.369311</td>\n",
       "      <td>-1.805550</td>\n",
       "    </tr>\n",
       "    <tr>\n",
       "      <th>6</th>\n",
       "      <td>0.002000</td>\n",
       "      <td>0.000999</td>\n",
       "      <td>-2.282507</td>\n",
       "      <td>-1.184415</td>\n",
       "    </tr>\n",
       "    <tr>\n",
       "      <th>7</th>\n",
       "      <td>0.001998</td>\n",
       "      <td>0.000999</td>\n",
       "      <td>-2.400409</td>\n",
       "      <td>-1.235931</td>\n",
       "    </tr>\n",
       "    <tr>\n",
       "      <th>8</th>\n",
       "      <td>0.002000</td>\n",
       "      <td>0.002999</td>\n",
       "      <td>-3.082124</td>\n",
       "      <td>-1.302834</td>\n",
       "    </tr>\n",
       "    <tr>\n",
       "      <th>9</th>\n",
       "      <td>0.001998</td>\n",
       "      <td>0.001000</td>\n",
       "      <td>-1.577190</td>\n",
       "      <td>-1.053835</td>\n",
       "    </tr>\n",
       "  </tbody>\n",
       "</table>\n",
       "</div>"
      ],
      "text/plain": [
       "   fit_time  score_time  test_neg_mean_squared_error  \\\n",
       "0  0.002000    0.001998                    -3.029917   \n",
       "1  0.002999    0.000999                    -4.425864   \n",
       "2  0.001998    0.001001                    -0.444214   \n",
       "3  0.000999    0.000999                    -1.320785   \n",
       "4  0.001999    0.001999                    -2.329244   \n",
       "5  0.001999    0.001998                    -7.369311   \n",
       "6  0.002000    0.000999                    -2.282507   \n",
       "7  0.001998    0.000999                    -2.400409   \n",
       "8  0.002000    0.002999                    -3.082124   \n",
       "9  0.001998    0.001000                    -1.577190   \n",
       "\n",
       "   test_neg_mean_absolute_error  \n",
       "0                     -1.304630  \n",
       "1                     -1.606698  \n",
       "2                     -0.605521  \n",
       "3                     -0.990646  \n",
       "4                     -1.150136  \n",
       "5                     -1.805550  \n",
       "6                     -1.184415  \n",
       "7                     -1.235931  \n",
       "8                     -1.302834  \n",
       "9                     -1.053835  "
      ]
     },
     "execution_count": 71,
     "metadata": {},
     "output_type": "execute_result"
    }
   ],
   "source": [
    "scores2=pd.DataFrame(scores2)\n",
    "scores2"
   ]
  },
  {
   "cell_type": "code",
   "execution_count": 72,
   "id": "9660f277",
   "metadata": {},
   "outputs": [
    {
     "data": {
      "text/plain": [
       "fit_time                        0.001999\n",
       "score_time                      0.001499\n",
       "test_neg_mean_squared_error    -2.826157\n",
       "test_neg_mean_absolute_error   -1.224020\n",
       "dtype: float64"
      ]
     },
     "execution_count": 72,
     "metadata": {},
     "output_type": "execute_result"
    }
   ],
   "source": [
    "scores2.mean()"
   ]
  },
  {
   "cell_type": "code",
   "execution_count": 74,
   "id": "c0be03d9",
   "metadata": {},
   "outputs": [],
   "source": [
    "model = Ridge(alpha=1)"
   ]
  },
  {
   "cell_type": "code",
   "execution_count": 75,
   "id": "b1e3e01a",
   "metadata": {},
   "outputs": [
    {
     "data": {
      "text/plain": [
       "Ridge(alpha=1)"
      ]
     },
     "execution_count": 75,
     "metadata": {},
     "output_type": "execute_result"
    }
   ],
   "source": [
    "model.fit(X_train, Y_train)"
   ]
  },
  {
   "cell_type": "code",
   "execution_count": 76,
   "id": "e6a1a01b",
   "metadata": {},
   "outputs": [],
   "source": [
    "prediction = model.predict(X_test)"
   ]
  },
  {
   "cell_type": "code",
   "execution_count": 77,
   "id": "131e8c2f",
   "metadata": {},
   "outputs": [
    {
     "data": {
      "text/plain": [
       "2.679769504632666"
      ]
     },
     "execution_count": 77,
     "metadata": {},
     "output_type": "execute_result"
    }
   ],
   "source": [
    "MSEE = mean_squared_error(prediction, Y_test)\n",
    "MSEE"
   ]
  },
  {
   "cell_type": "code",
   "execution_count": null,
   "id": "734f96db",
   "metadata": {},
   "outputs": [],
   "source": [
    "##CODE IMPLEMENTATION  grid search CV\n",
    "# For code implementation imagine that all you have done is\n",
    "# create X and Y , train-test-split, and scale your data\n",
    "# scaling; fit training data, transform training and test data. "
   ]
  },
  {
   "cell_type": "code",
   "execution_count": 78,
   "id": "fd318244",
   "metadata": {},
   "outputs": [],
   "source": [
    "from sklearn.linear_model import ElasticNet"
   ]
  },
  {
   "cell_type": "code",
   "execution_count": 79,
   "id": "fb3cde46",
   "metadata": {},
   "outputs": [],
   "source": [
    "base_elastic_model = ElasticNet()"
   ]
  },
  {
   "cell_type": "code",
   "execution_count": 80,
   "id": "9b06faf9",
   "metadata": {},
   "outputs": [],
   "source": [
    "para_grid = {'alpha': [0.1,1,5,10,100], 'l1_ratio': [0.1,0.5,0.7,0.9,1]}"
   ]
  },
  {
   "cell_type": "code",
   "execution_count": 81,
   "id": "6843f941",
   "metadata": {},
   "outputs": [],
   "source": [
    "from sklearn.model_selection import GridSearchCV"
   ]
  },
  {
   "cell_type": "code",
   "execution_count": 82,
   "id": "078649b2",
   "metadata": {},
   "outputs": [],
   "source": [
    "grid_model = GridSearchCV(estimator= base_elastic_model, param_grid=para_grid, scoring='neg_mean_squared_error', cv=5, verbose=3)"
   ]
  },
  {
   "cell_type": "code",
   "execution_count": 83,
   "id": "a33d33d1",
   "metadata": {},
   "outputs": [
    {
     "name": "stdout",
     "output_type": "stream",
     "text": [
      "Fitting 5 folds for each of 25 candidates, totalling 125 fits\n",
      "[CV 1/5] END ..........alpha=0.1, l1_ratio=0.1;, score=-4.131 total time=   0.7s\n",
      "[CV 2/5] END ..........alpha=0.1, l1_ratio=0.1;, score=-0.812 total time=   0.0s\n",
      "[CV 3/5] END ..........alpha=0.1, l1_ratio=0.1;, score=-4.849 total time=   0.0s\n",
      "[CV 4/5] END ..........alpha=0.1, l1_ratio=0.1;, score=-2.528 total time=   0.0s\n",
      "[CV 5/5] END ..........alpha=0.1, l1_ratio=0.1;, score=-2.614 total time=   0.0s\n",
      "[CV 1/5] END ..........alpha=0.1, l1_ratio=0.5;, score=-4.018 total time=   0.0s\n",
      "[CV 2/5] END ..........alpha=0.1, l1_ratio=0.5;, score=-0.781 total time=   0.0s\n",
      "[CV 3/5] END ..........alpha=0.1, l1_ratio=0.5;, score=-4.707 total time=   0.0s\n",
      "[CV 4/5] END ..........alpha=0.1, l1_ratio=0.5;, score=-2.424 total time=   0.0s\n",
      "[CV 5/5] END ..........alpha=0.1, l1_ratio=0.5;, score=-2.514 total time=   0.0s\n",
      "[CV 1/5] END ..........alpha=0.1, l1_ratio=0.7;, score=-3.971 total time=   0.0s\n",
      "[CV 2/5] END ..........alpha=0.1, l1_ratio=0.7;, score=-0.777 total time=   0.0s\n",
      "[CV 3/5] END ..........alpha=0.1, l1_ratio=0.7;, score=-4.644 total time=   0.0s\n",
      "[CV 4/5] END ..........alpha=0.1, l1_ratio=0.7;, score=-2.384 total time=   0.0s\n",
      "[CV 5/5] END ..........alpha=0.1, l1_ratio=0.7;, score=-2.477 total time=   0.0s\n",
      "[CV 1/5] END ..........alpha=0.1, l1_ratio=0.9;, score=-3.931 total time=   0.0s\n",
      "[CV 2/5] END ..........alpha=0.1, l1_ratio=0.9;, score=-0.781 total time=   0.0s\n",
      "[CV 3/5] END ..........alpha=0.1, l1_ratio=0.9;, score=-4.587 total time=   0.0s\n",
      "[CV 4/5] END ..........alpha=0.1, l1_ratio=0.9;, score=-2.352 total time=   0.0s\n",
      "[CV 5/5] END ..........alpha=0.1, l1_ratio=0.9;, score=-2.451 total time=   0.0s\n",
      "[CV 1/5] END ............alpha=0.1, l1_ratio=1;, score=-3.914 total time=   0.0s\n",
      "[CV 2/5] END ............alpha=0.1, l1_ratio=1;, score=-0.787 total time=   0.0s\n",
      "[CV 3/5] END ............alpha=0.1, l1_ratio=1;, score=-4.562 total time=   0.0s\n",
      "[CV 4/5] END ............alpha=0.1, l1_ratio=1;, score=-2.340 total time=   0.0s\n",
      "[CV 5/5] END ............alpha=0.1, l1_ratio=1;, score=-2.443 total time=   0.0s\n",
      "[CV 1/5] END ...........alpha=1, l1_ratio=0.1;, score=-10.802 total time=   0.0s\n",
      "[CV 2/5] END ............alpha=1, l1_ratio=0.1;, score=-5.277 total time=   0.0s\n",
      "[CV 3/5] END ...........alpha=1, l1_ratio=0.1;, score=-10.443 total time=   0.0s\n",
      "[CV 4/5] END ............alpha=1, l1_ratio=0.1;, score=-9.248 total time=   0.0s\n",
      "[CV 5/5] END ............alpha=1, l1_ratio=0.1;, score=-8.165 total time=   0.0s\n",
      "[CV 1/5] END ............alpha=1, l1_ratio=0.5;, score=-9.518 total time=   0.0s\n",
      "[CV 2/5] END ............alpha=1, l1_ratio=0.5;, score=-4.031 total time=   0.0s\n",
      "[CV 3/5] END ............alpha=1, l1_ratio=0.5;, score=-9.012 total time=   0.0s\n",
      "[CV 4/5] END ............alpha=1, l1_ratio=0.5;, score=-7.507 total time=   0.0s\n",
      "[CV 5/5] END ............alpha=1, l1_ratio=0.5;, score=-6.195 total time=   0.0s\n",
      "[CV 1/5] END ............alpha=1, l1_ratio=0.7;, score=-8.708 total time=   0.0s\n",
      "[CV 2/5] END ............alpha=1, l1_ratio=0.7;, score=-3.260 total time=   0.0s\n",
      "[CV 3/5] END ............alpha=1, l1_ratio=0.7;, score=-8.080 total time=   0.0s\n",
      "[CV 4/5] END ............alpha=1, l1_ratio=0.7;, score=-6.486 total time=   0.0s\n",
      "[CV 5/5] END ............alpha=1, l1_ratio=0.7;, score=-5.092 total time=   0.0s\n",
      "[CV 1/5] END ............alpha=1, l1_ratio=0.9;, score=-7.857 total time=   0.0s\n",
      "[CV 2/5] END ............alpha=1, l1_ratio=0.9;, score=-2.429 total time=   0.0s\n",
      "[CV 3/5] END ............alpha=1, l1_ratio=0.9;, score=-7.049 total time=   0.0s\n",
      "[CV 4/5] END ............alpha=1, l1_ratio=0.9;, score=-5.334 total time=   0.0s\n",
      "[CV 5/5] END ............alpha=1, l1_ratio=0.9;, score=-3.924 total time=   0.0s\n",
      "[CV 1/5] END ..............alpha=1, l1_ratio=1;, score=-7.461 total time=   0.0s\n",
      "[CV 2/5] END ..............alpha=1, l1_ratio=1;, score=-2.022 total time=   0.0s\n",
      "[CV 3/5] END ..............alpha=1, l1_ratio=1;, score=-6.529 total time=   0.0s\n",
      "[CV 4/5] END ..............alpha=1, l1_ratio=1;, score=-4.736 total time=   0.0s\n",
      "[CV 5/5] END ..............alpha=1, l1_ratio=1;, score=-3.394 total time=   0.0s\n",
      "[CV 1/5] END ...........alpha=5, l1_ratio=0.1;, score=-24.029 total time=   0.0s\n",
      "[CV 2/5] END ...........alpha=5, l1_ratio=0.1;, score=-16.308 total time=   0.0s\n",
      "[CV 3/5] END ...........alpha=5, l1_ratio=0.1;, score=-21.865 total time=   0.0s\n",
      "[CV 4/5] END ...........alpha=5, l1_ratio=0.1;, score=-22.767 total time=   0.0s\n",
      "[CV 5/5] END ...........alpha=5, l1_ratio=0.1;, score=-18.998 total time=   0.0s\n",
      "[CV 1/5] END ...........alpha=5, l1_ratio=0.5;, score=-26.345 total time=   0.0s\n",
      "[CV 2/5] END ...........alpha=5, l1_ratio=0.5;, score=-18.203 total time=   0.0s\n",
      "[CV 3/5] END ...........alpha=5, l1_ratio=0.5;, score=-23.650 total time=   0.0s\n",
      "[CV 4/5] END ...........alpha=5, l1_ratio=0.5;, score=-25.179 total time=   0.0s\n",
      "[CV 5/5] END ...........alpha=5, l1_ratio=0.5;, score=-20.102 total time=   0.0s\n",
      "[CV 1/5] END ...........alpha=5, l1_ratio=0.7;, score=-27.632 total time=   0.0s\n",
      "[CV 2/5] END ...........alpha=5, l1_ratio=0.7;, score=-19.253 total time=   0.0s\n",
      "[CV 3/5] END ...........alpha=5, l1_ratio=0.7;, score=-24.764 total time=   0.0s\n",
      "[CV 4/5] END ...........alpha=5, l1_ratio=0.7;, score=-26.718 total time=   0.0s\n",
      "[CV 5/5] END ...........alpha=5, l1_ratio=0.7;, score=-21.494 total time=   0.0s\n",
      "[CV 1/5] END ...........alpha=5, l1_ratio=0.9;, score=-30.795 total time=   0.0s\n",
      "[CV 2/5] END ...........alpha=5, l1_ratio=0.9;, score=-21.811 total time=   0.0s\n",
      "[CV 3/5] END ...........alpha=5, l1_ratio=0.9;, score=-27.478 total time=   0.0s\n",
      "[CV 4/5] END ...........alpha=5, l1_ratio=0.9;, score=-30.547 total time=   0.0s\n",
      "[CV 5/5] END ...........alpha=5, l1_ratio=0.9;, score=-25.040 total time=   0.0s\n",
      "[CV 1/5] END .............alpha=5, l1_ratio=1;, score=-32.096 total time=   0.0s\n",
      "[CV 2/5] END .............alpha=5, l1_ratio=1;, score=-23.579 total time=   0.0s\n",
      "[CV 3/5] END .............alpha=5, l1_ratio=1;, score=-29.267 total time=   0.0s\n",
      "[CV 4/5] END .............alpha=5, l1_ratio=1;, score=-31.183 total time=   0.0s\n",
      "[CV 5/5] END .............alpha=5, l1_ratio=1;, score=-26.101 total time=   0.0s\n",
      "[CV 1/5] END ..........alpha=10, l1_ratio=0.1;, score=-28.266 total time=   0.0s\n",
      "[CV 2/5] END ..........alpha=10, l1_ratio=0.1;, score=-20.026 total time=   0.0s\n",
      "[CV 3/5] END ..........alpha=10, l1_ratio=0.1;, score=-25.608 total time=   0.0s\n",
      "[CV 4/5] END ..........alpha=10, l1_ratio=0.1;, score=-27.129 total time=   0.0s\n",
      "[CV 5/5] END ..........alpha=10, l1_ratio=0.1;, score=-22.484 total time=   0.0s\n",
      "[CV 1/5] END ..........alpha=10, l1_ratio=0.5;, score=-32.096 total time=   0.0s\n",
      "[CV 2/5] END ..........alpha=10, l1_ratio=0.5;, score=-23.579 total time=   0.0s\n",
      "[CV 3/5] END ..........alpha=10, l1_ratio=0.5;, score=-29.267 total time=   0.0s\n",
      "[CV 4/5] END ..........alpha=10, l1_ratio=0.5;, score=-31.183 total time=   0.0s\n",
      "[CV 5/5] END ..........alpha=10, l1_ratio=0.5;, score=-26.101 total time=   0.0s\n",
      "[CV 1/5] END ..........alpha=10, l1_ratio=0.7;, score=-32.096 total time=   0.0s\n",
      "[CV 2/5] END ..........alpha=10, l1_ratio=0.7;, score=-23.579 total time=   0.0s\n",
      "[CV 3/5] END ..........alpha=10, l1_ratio=0.7;, score=-29.267 total time=   0.0s\n",
      "[CV 4/5] END ..........alpha=10, l1_ratio=0.7;, score=-31.183 total time=   0.0s\n",
      "[CV 5/5] END ..........alpha=10, l1_ratio=0.7;, score=-26.101 total time=   0.0s\n",
      "[CV 1/5] END ..........alpha=10, l1_ratio=0.9;, score=-32.096 total time=   0.0s\n",
      "[CV 2/5] END ..........alpha=10, l1_ratio=0.9;, score=-23.579 total time=   0.0s\n",
      "[CV 3/5] END ..........alpha=10, l1_ratio=0.9;, score=-29.267 total time=   0.0s\n",
      "[CV 4/5] END ..........alpha=10, l1_ratio=0.9;, score=-31.183 total time=   0.0s\n",
      "[CV 5/5] END ..........alpha=10, l1_ratio=0.9;, score=-26.101 total time=   0.0s\n",
      "[CV 1/5] END ............alpha=10, l1_ratio=1;, score=-32.096 total time=   0.0s\n",
      "[CV 2/5] END ............alpha=10, l1_ratio=1;, score=-23.579 total time=   0.0s\n",
      "[CV 3/5] END ............alpha=10, l1_ratio=1;, score=-29.267 total time=   0.0s\n",
      "[CV 4/5] END ............alpha=10, l1_ratio=1;, score=-31.183 total time=   0.0s\n",
      "[CV 5/5] END ............alpha=10, l1_ratio=1;, score=-26.101 total time=   0.0s\n",
      "[CV 1/5] END .........alpha=100, l1_ratio=0.1;, score=-32.096 total time=   0.0s\n",
      "[CV 2/5] END .........alpha=100, l1_ratio=0.1;, score=-23.579 total time=   0.0s\n",
      "[CV 3/5] END .........alpha=100, l1_ratio=0.1;, score=-29.267 total time=   0.0s\n",
      "[CV 4/5] END .........alpha=100, l1_ratio=0.1;, score=-31.183 total time=   0.0s\n",
      "[CV 5/5] END .........alpha=100, l1_ratio=0.1;, score=-26.101 total time=   0.0s\n",
      "[CV 1/5] END .........alpha=100, l1_ratio=0.5;, score=-32.096 total time=   0.0s\n",
      "[CV 2/5] END .........alpha=100, l1_ratio=0.5;, score=-23.579 total time=   0.0s\n",
      "[CV 3/5] END .........alpha=100, l1_ratio=0.5;, score=-29.267 total time=   0.0s\n",
      "[CV 4/5] END .........alpha=100, l1_ratio=0.5;, score=-31.183 total time=   0.0s\n",
      "[CV 5/5] END .........alpha=100, l1_ratio=0.5;, score=-26.101 total time=   0.0s\n",
      "[CV 1/5] END .........alpha=100, l1_ratio=0.7;, score=-32.096 total time=   0.0s\n",
      "[CV 2/5] END .........alpha=100, l1_ratio=0.7;, score=-23.579 total time=   0.0s\n",
      "[CV 3/5] END .........alpha=100, l1_ratio=0.7;, score=-29.267 total time=   0.0s\n",
      "[CV 4/5] END .........alpha=100, l1_ratio=0.7;, score=-31.183 total time=   0.0s\n",
      "[CV 5/5] END .........alpha=100, l1_ratio=0.7;, score=-26.101 total time=   0.0s\n",
      "[CV 1/5] END .........alpha=100, l1_ratio=0.9;, score=-32.096 total time=   0.0s\n",
      "[CV 2/5] END .........alpha=100, l1_ratio=0.9;, score=-23.579 total time=   0.0s\n",
      "[CV 3/5] END .........alpha=100, l1_ratio=0.9;, score=-29.267 total time=   0.0s\n",
      "[CV 4/5] END .........alpha=100, l1_ratio=0.9;, score=-31.183 total time=   0.0s\n",
      "[CV 5/5] END .........alpha=100, l1_ratio=0.9;, score=-26.101 total time=   0.0s\n",
      "[CV 1/5] END ...........alpha=100, l1_ratio=1;, score=-32.096 total time=   0.0s\n",
      "[CV 2/5] END ...........alpha=100, l1_ratio=1;, score=-23.579 total time=   0.0s\n",
      "[CV 3/5] END ...........alpha=100, l1_ratio=1;, score=-29.267 total time=   0.0s\n",
      "[CV 4/5] END ...........alpha=100, l1_ratio=1;, score=-31.183 total time=   0.0s\n",
      "[CV 5/5] END ...........alpha=100, l1_ratio=1;, score=-26.101 total time=   0.0s\n"
     ]
    },
    {
     "data": {
      "text/plain": [
       "GridSearchCV(cv=5, estimator=ElasticNet(),\n",
       "             param_grid={'alpha': [0.1, 1, 5, 10, 100],\n",
       "                         'l1_ratio': [0.1, 0.5, 0.7, 0.9, 1]},\n",
       "             scoring='neg_mean_squared_error', verbose=3)"
      ]
     },
     "execution_count": 83,
     "metadata": {},
     "output_type": "execute_result"
    }
   ],
   "source": [
    "grid_model.fit(X_train, Y_train)"
   ]
  },
  {
   "cell_type": "code",
   "execution_count": 84,
   "id": "e82b42b4",
   "metadata": {},
   "outputs": [
    {
     "data": {
      "text/plain": [
       "ElasticNet(alpha=0.1, l1_ratio=1)"
      ]
     },
     "execution_count": 84,
     "metadata": {},
     "output_type": "execute_result"
    }
   ],
   "source": [
    "grid_model.best_estimator_"
   ]
  },
  {
   "cell_type": "code",
   "execution_count": 85,
   "id": "ece597ce",
   "metadata": {},
   "outputs": [
    {
     "data": {
      "text/plain": [
       "{'alpha': 0.1, 'l1_ratio': 1}"
      ]
     },
     "execution_count": 85,
     "metadata": {},
     "output_type": "execute_result"
    }
   ],
   "source": [
    "grid_model.best_params_"
   ]
  },
  {
   "cell_type": "code",
   "execution_count": 88,
   "id": "4f1c9afc",
   "metadata": {},
   "outputs": [
    {
     "data": {
      "text/html": [
       "<div>\n",
       "<style scoped>\n",
       "    .dataframe tbody tr th:only-of-type {\n",
       "        vertical-align: middle;\n",
       "    }\n",
       "\n",
       "    .dataframe tbody tr th {\n",
       "        vertical-align: top;\n",
       "    }\n",
       "\n",
       "    .dataframe thead th {\n",
       "        text-align: right;\n",
       "    }\n",
       "</style>\n",
       "<table border=\"1\" class=\"dataframe\">\n",
       "  <thead>\n",
       "    <tr style=\"text-align: right;\">\n",
       "      <th></th>\n",
       "      <th>mean_fit_time</th>\n",
       "      <th>std_fit_time</th>\n",
       "      <th>mean_score_time</th>\n",
       "      <th>std_score_time</th>\n",
       "      <th>param_alpha</th>\n",
       "      <th>param_l1_ratio</th>\n",
       "      <th>params</th>\n",
       "      <th>split0_test_score</th>\n",
       "      <th>split1_test_score</th>\n",
       "      <th>split2_test_score</th>\n",
       "      <th>split3_test_score</th>\n",
       "      <th>split4_test_score</th>\n",
       "      <th>mean_test_score</th>\n",
       "      <th>std_test_score</th>\n",
       "      <th>rank_test_score</th>\n",
       "    </tr>\n",
       "  </thead>\n",
       "  <tbody>\n",
       "    <tr>\n",
       "      <th>0</th>\n",
       "      <td>0.151680</td>\n",
       "      <td>0.300362</td>\n",
       "      <td>0.001200</td>\n",
       "      <td>0.000400</td>\n",
       "      <td>0.1</td>\n",
       "      <td>0.1</td>\n",
       "      <td>{'alpha': 0.1, 'l1_ratio': 0.1}</td>\n",
       "      <td>-4.131482</td>\n",
       "      <td>-0.811910</td>\n",
       "      <td>-4.849386</td>\n",
       "      <td>-2.528035</td>\n",
       "      <td>-2.614127</td>\n",
       "      <td>-2.986988</td>\n",
       "      <td>1.404209</td>\n",
       "      <td>5</td>\n",
       "    </tr>\n",
       "    <tr>\n",
       "      <th>1</th>\n",
       "      <td>0.001599</td>\n",
       "      <td>0.000490</td>\n",
       "      <td>0.001199</td>\n",
       "      <td>0.000400</td>\n",
       "      <td>0.1</td>\n",
       "      <td>0.5</td>\n",
       "      <td>{'alpha': 0.1, 'l1_ratio': 0.5}</td>\n",
       "      <td>-4.018442</td>\n",
       "      <td>-0.781203</td>\n",
       "      <td>-4.706719</td>\n",
       "      <td>-2.424489</td>\n",
       "      <td>-2.514059</td>\n",
       "      <td>-2.888982</td>\n",
       "      <td>1.369591</td>\n",
       "      <td>4</td>\n",
       "    </tr>\n",
       "    <tr>\n",
       "      <th>2</th>\n",
       "      <td>0.004797</td>\n",
       "      <td>0.006141</td>\n",
       "      <td>0.000799</td>\n",
       "      <td>0.000399</td>\n",
       "      <td>0.1</td>\n",
       "      <td>0.7</td>\n",
       "      <td>{'alpha': 0.1, 'l1_ratio': 0.7}</td>\n",
       "      <td>-3.971075</td>\n",
       "      <td>-0.776942</td>\n",
       "      <td>-4.643757</td>\n",
       "      <td>-2.383816</td>\n",
       "      <td>-2.477331</td>\n",
       "      <td>-2.850584</td>\n",
       "      <td>1.351159</td>\n",
       "      <td>3</td>\n",
       "    </tr>\n",
       "    <tr>\n",
       "      <th>3</th>\n",
       "      <td>0.002199</td>\n",
       "      <td>0.001166</td>\n",
       "      <td>0.002399</td>\n",
       "      <td>0.003321</td>\n",
       "      <td>0.1</td>\n",
       "      <td>0.9</td>\n",
       "      <td>{'alpha': 0.1, 'l1_ratio': 0.9}</td>\n",
       "      <td>-3.930936</td>\n",
       "      <td>-0.781241</td>\n",
       "      <td>-4.587436</td>\n",
       "      <td>-2.351895</td>\n",
       "      <td>-2.451265</td>\n",
       "      <td>-2.820555</td>\n",
       "      <td>1.331888</td>\n",
       "      <td>2</td>\n",
       "    </tr>\n",
       "    <tr>\n",
       "      <th>4</th>\n",
       "      <td>0.001799</td>\n",
       "      <td>0.001166</td>\n",
       "      <td>0.001000</td>\n",
       "      <td>0.000632</td>\n",
       "      <td>0.1</td>\n",
       "      <td>1</td>\n",
       "      <td>{'alpha': 0.1, 'l1_ratio': 1}</td>\n",
       "      <td>-3.913879</td>\n",
       "      <td>-0.786910</td>\n",
       "      <td>-4.562050</td>\n",
       "      <td>-2.339577</td>\n",
       "      <td>-2.442718</td>\n",
       "      <td>-2.809027</td>\n",
       "      <td>1.321916</td>\n",
       "      <td>1</td>\n",
       "    </tr>\n",
       "  </tbody>\n",
       "</table>\n",
       "</div>"
      ],
      "text/plain": [
       "   mean_fit_time  std_fit_time  mean_score_time  std_score_time param_alpha  \\\n",
       "0       0.151680      0.300362         0.001200        0.000400         0.1   \n",
       "1       0.001599      0.000490         0.001199        0.000400         0.1   \n",
       "2       0.004797      0.006141         0.000799        0.000399         0.1   \n",
       "3       0.002199      0.001166         0.002399        0.003321         0.1   \n",
       "4       0.001799      0.001166         0.001000        0.000632         0.1   \n",
       "\n",
       "  param_l1_ratio                           params  split0_test_score  \\\n",
       "0            0.1  {'alpha': 0.1, 'l1_ratio': 0.1}          -4.131482   \n",
       "1            0.5  {'alpha': 0.1, 'l1_ratio': 0.5}          -4.018442   \n",
       "2            0.7  {'alpha': 0.1, 'l1_ratio': 0.7}          -3.971075   \n",
       "3            0.9  {'alpha': 0.1, 'l1_ratio': 0.9}          -3.930936   \n",
       "4              1    {'alpha': 0.1, 'l1_ratio': 1}          -3.913879   \n",
       "\n",
       "   split1_test_score  split2_test_score  split3_test_score  split4_test_score  \\\n",
       "0          -0.811910          -4.849386          -2.528035          -2.614127   \n",
       "1          -0.781203          -4.706719          -2.424489          -2.514059   \n",
       "2          -0.776942          -4.643757          -2.383816          -2.477331   \n",
       "3          -0.781241          -4.587436          -2.351895          -2.451265   \n",
       "4          -0.786910          -4.562050          -2.339577          -2.442718   \n",
       "\n",
       "   mean_test_score  std_test_score  rank_test_score  \n",
       "0        -2.986988        1.404209                5  \n",
       "1        -2.888982        1.369591                4  \n",
       "2        -2.850584        1.351159                3  \n",
       "3        -2.820555        1.331888                2  \n",
       "4        -2.809027        1.321916                1  "
      ]
     },
     "execution_count": 88,
     "metadata": {},
     "output_type": "execute_result"
    }
   ],
   "source": [
    "pd.DataFrame(grid_model.cv_results_).head()"
   ]
  },
  {
   "cell_type": "code",
   "execution_count": 89,
   "id": "54a9e14a",
   "metadata": {},
   "outputs": [],
   "source": [
    "y_pre = grid_model.predict(X_test)"
   ]
  },
  {
   "cell_type": "code",
   "execution_count": 90,
   "id": "a3d06790",
   "metadata": {},
   "outputs": [
    {
     "data": {
      "text/plain": [
       "2.6060323639618455"
      ]
     },
     "execution_count": 90,
     "metadata": {},
     "output_type": "execute_result"
    },
    {
     "ename": "",
     "evalue": "",
     "output_type": "error",
     "traceback": [
      "The Kernel crashed while executing code in the the current cell or a previous cell. Please review the code in the cell(s) to identify a possible cause of the failure. Click <a href='https://aka.ms/vscodeJupyterKernelCrash'>here</a> for more info. View Jupyter <a href='command:jupyter.viewOutput'>log</a> for further details."
     ]
    }
   ],
   "source": [
    "mean_squared_error(y_pre, Y_test)"
   ]
  },
  {
   "cell_type": "code",
   "execution_count": null,
   "id": "e76f0ca0",
   "metadata": {},
   "outputs": [],
   "source": [
    "df.shape"
   ]
  }
 ],
 "metadata": {
  "kernelspec": {
   "display_name": "Python 3.7.0 ('mltest')",
   "language": "python",
   "name": "python3"
  },
  "language_info": {
   "codemirror_mode": {
    "name": "ipython",
    "version": 3
   },
   "file_extension": ".py",
   "mimetype": "text/x-python",
   "name": "python",
   "nbconvert_exporter": "python",
   "pygments_lexer": "ipython3",
   "version": "3.7.0"
  },
  "vscode": {
   "interpreter": {
    "hash": "52a4d877ffcfd1b087fbf07d227ba16e194391add6389c0fe329abd3a19e5b8f"
   }
  }
 },
 "nbformat": 4,
 "nbformat_minor": 5
}
