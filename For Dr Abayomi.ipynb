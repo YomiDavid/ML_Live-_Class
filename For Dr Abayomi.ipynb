{
 "cells": [
  {
   "cell_type": "code",
   "execution_count": 1,
   "id": "db8aaee6",
   "metadata": {},
   "outputs": [],
   "source": [
    "import os"
   ]
  },
  {
   "cell_type": "code",
   "execution_count": 2,
   "id": "fa116fa5",
   "metadata": {},
   "outputs": [],
   "source": [
    "import numpy as np\n",
    "import pandas as pd\n",
    "import matplotlib.pyplot as plt\n",
    "%matplotlib inline\n",
    "import seaborn as sns "
   ]
  },
  {
   "cell_type": "code",
   "execution_count": 28,
   "id": "7fa6c4dc",
   "metadata": {},
   "outputs": [
    {
     "data": {
      "text/html": [
       "<div>\n",
       "<style scoped>\n",
       "    .dataframe tbody tr th:only-of-type {\n",
       "        vertical-align: middle;\n",
       "    }\n",
       "\n",
       "    .dataframe tbody tr th {\n",
       "        vertical-align: top;\n",
       "    }\n",
       "\n",
       "    .dataframe thead th {\n",
       "        text-align: right;\n",
       "    }\n",
       "</style>\n",
       "<table border=\"1\" class=\"dataframe\">\n",
       "  <thead>\n",
       "    <tr style=\"text-align: right;\">\n",
       "      <th></th>\n",
       "      <th>Size</th>\n",
       "      <th>Ql(%)</th>\n",
       "      <th>A/</th>\n",
       "      <th>Nos(N)</th>\n",
       "      <th>Depth(m)</th>\n",
       "      <th>Length(m)</th>\n",
       "      <th>width(m)</th>\n",
       "    </tr>\n",
       "  </thead>\n",
       "  <tbody>\n",
       "    <tr>\n",
       "      <th>0</th>\n",
       "      <td>AN001</td>\n",
       "      <td>39</td>\n",
       "      <td>262.26</td>\n",
       "      <td>15</td>\n",
       "      <td>350</td>\n",
       "      <td>84.61</td>\n",
       "      <td>3.10</td>\n",
       "    </tr>\n",
       "    <tr>\n",
       "      <th>1</th>\n",
       "      <td>DL004</td>\n",
       "      <td>39</td>\n",
       "      <td>134.23</td>\n",
       "      <td>13</td>\n",
       "      <td>220</td>\n",
       "      <td>49.90</td>\n",
       "      <td>2.69</td>\n",
       "    </tr>\n",
       "    <tr>\n",
       "      <th>2</th>\n",
       "      <td>DL005</td>\n",
       "      <td>20</td>\n",
       "      <td>149.51</td>\n",
       "      <td>7</td>\n",
       "      <td>220</td>\n",
       "      <td>81.70</td>\n",
       "      <td>1.83</td>\n",
       "    </tr>\n",
       "    <tr>\n",
       "      <th>3</th>\n",
       "      <td>ED006</td>\n",
       "      <td>25</td>\n",
       "      <td>219.61</td>\n",
       "      <td>9</td>\n",
       "      <td>300</td>\n",
       "      <td>133.10</td>\n",
       "      <td>1.65</td>\n",
       "    </tr>\n",
       "    <tr>\n",
       "      <th>4</th>\n",
       "      <td>ED008</td>\n",
       "      <td>41</td>\n",
       "      <td>161.56</td>\n",
       "      <td>17</td>\n",
       "      <td>200</td>\n",
       "      <td>61.90</td>\n",
       "      <td>2.61</td>\n",
       "    </tr>\n",
       "  </tbody>\n",
       "</table>\n",
       "</div>"
      ],
      "text/plain": [
       "    Size  Ql(%)      A/  Nos(N)  Depth(m)  Length(m)  width(m)\n",
       "0  AN001     39  262.26      15       350      84.61      3.10\n",
       "1  DL004     39  134.23      13       220      49.90      2.69\n",
       "2  DL005     20  149.51       7       220      81.70      1.83\n",
       "3  ED006     25  219.61       9       300     133.10      1.65\n",
       "4  ED008     41  161.56      17       200      61.90      2.61"
      ]
     },
     "execution_count": 28,
     "metadata": {},
     "output_type": "execute_result"
    }
   ],
   "source": [
    "df = pd.read_csv(r'C:\\Users\\USER\\Desktop\\Modcode\\ML_Live-_Class\\data\\Book1.csv')\n",
    "df.head()"
   ]
  },
  {
   "cell_type": "code",
   "execution_count": 4,
   "id": "4860b5ab",
   "metadata": {},
   "outputs": [],
   "source": [
    "def scatter_plot(x,y):\n",
    "    sns.scatterplot(data=df,x=x,y='Ql(%)')\n",
    "    sns.regplot(data=df,y='Ql(%)',x=x, scatter='False', ci=None)"
   ]
  },
  {
   "cell_type": "code",
   "execution_count": 6,
   "id": "98d926ed",
   "metadata": {},
   "outputs": [
    {
     "data": {
      "image/png": "[encoded data removed]",
      "text/plain": [
       "<Figure size 432x288 with 1 Axes>"
      ]
     },
     "metadata": {
      "needs_background": "light"
     },
     "output_type": "display_data"
    }
   ],
   "source": [
    "scatter_plot('A/','y')"
   ]
  },
  {
   "cell_type": "code",
   "execution_count": 7,
   "id": "3497cbf6",
   "metadata": {},
   "outputs": [
    {
     "data": {
      "image/png": "[encoded data removed]",
      "text/plain": [
       "<Figure size 432x288 with 1 Axes>"
      ]
     },
     "metadata": {
      "needs_background": "light"
     },
     "output_type": "display_data"
    }
   ],
   "source": [
    "scatter_plot('Depth(m)','y')"
   ]
  },
  {
   "cell_type": "code",
   "execution_count": 10,
   "id": "e24442f0",
   "metadata": {},
   "outputs": [
    {
     "data": {
      "image/png": "[encoded data removed]",
      "text/plain": [
       "<Figure size 432x288 with 1 Axes>"
      ]
     },
     "metadata": {
      "needs_background": "light"
     },
     "output_type": "display_data"
    }
   ],
   "source": [
    "scatter_plot('Length(m)','y')"
   ]
  },
  {
   "cell_type": "code",
   "execution_count": 11,
   "id": "94bea886",
   "metadata": {},
   "outputs": [
    {
     "data": {
      "image/png": "[encoded data removed]",
      "text/plain": [
       "<Figure size 432x288 with 1 Axes>"
      ]
     },
     "metadata": {
      "needs_background": "light"
     },
     "output_type": "display_data"
    }
   ],
   "source": [
    "scatter_plot('width(m)','y')"
   ]
  },
  {
   "cell_type": "code",
   "execution_count": 80,
   "id": "38ed3b11",
   "metadata": {},
   "outputs": [
    {
     "data": {
      "image/png": "[encoded data removed]",
      "text/plain": [
       "<Figure size 432x288 with 1 Axes>"
      ]
     },
     "metadata": {
      "needs_background": "light"
     },
     "output_type": "display_data"
    }
   ],
   "source": [
    "scatter_plot('Nos(N)',y)"
   ]
  },
  {
   "cell_type": "code",
   "execution_count": 29,
   "id": "c7eff50f",
   "metadata": {},
   "outputs": [],
   "source": [
    "df =df.drop('Size', axis=1)"
   ]
  },
  {
   "cell_type": "code",
   "execution_count": 64,
   "id": "dac0cb08",
   "metadata": {},
   "outputs": [
    {
     "data": {
      "text/plain": [
       "0    39\n",
       "1    39\n",
       "Name: Ql(%), dtype: int64"
      ]
     },
     "execution_count": 64,
     "metadata": {},
     "output_type": "execute_result"
    }
   ],
   "source": [
    "y = df['Ql(%)']\n",
    "y.head(2)"
   ]
  },
  {
   "cell_type": "code",
   "execution_count": 68,
   "id": "6b9aa9d0",
   "metadata": {},
   "outputs": [
    {
     "data": {
      "text/html": [
       "<div>\n",
       "<style scoped>\n",
       "    .dataframe tbody tr th:only-of-type {\n",
       "        vertical-align: middle;\n",
       "    }\n",
       "\n",
       "    .dataframe tbody tr th {\n",
       "        vertical-align: top;\n",
       "    }\n",
       "\n",
       "    .dataframe thead th {\n",
       "        text-align: right;\n",
       "    }\n",
       "</style>\n",
       "<table border=\"1\" class=\"dataframe\">\n",
       "  <thead>\n",
       "    <tr style=\"text-align: right;\">\n",
       "      <th></th>\n",
       "      <th>A/</th>\n",
       "      <th>Nos(N)</th>\n",
       "      <th>Depth(m)</th>\n",
       "      <th>Length(m)</th>\n",
       "      <th>width(m)</th>\n",
       "    </tr>\n",
       "  </thead>\n",
       "  <tbody>\n",
       "    <tr>\n",
       "      <th>0</th>\n",
       "      <td>262.26</td>\n",
       "      <td>15</td>\n",
       "      <td>350</td>\n",
       "      <td>84.61</td>\n",
       "      <td>3.10</td>\n",
       "    </tr>\n",
       "    <tr>\n",
       "      <th>1</th>\n",
       "      <td>134.23</td>\n",
       "      <td>13</td>\n",
       "      <td>220</td>\n",
       "      <td>49.90</td>\n",
       "      <td>2.69</td>\n",
       "    </tr>\n",
       "    <tr>\n",
       "      <th>2</th>\n",
       "      <td>149.51</td>\n",
       "      <td>7</td>\n",
       "      <td>220</td>\n",
       "      <td>81.70</td>\n",
       "      <td>1.83</td>\n",
       "    </tr>\n",
       "    <tr>\n",
       "      <th>3</th>\n",
       "      <td>219.61</td>\n",
       "      <td>9</td>\n",
       "      <td>300</td>\n",
       "      <td>133.10</td>\n",
       "      <td>1.65</td>\n",
       "    </tr>\n",
       "    <tr>\n",
       "      <th>4</th>\n",
       "      <td>161.56</td>\n",
       "      <td>17</td>\n",
       "      <td>200</td>\n",
       "      <td>61.90</td>\n",
       "      <td>2.61</td>\n",
       "    </tr>\n",
       "  </tbody>\n",
       "</table>\n",
       "</div>"
      ],
      "text/plain": [
       "       A/  Nos(N)  Depth(m)  Length(m)  width(m)\n",
       "0  262.26      15       350      84.61      3.10\n",
       "1  134.23      13       220      49.90      2.69\n",
       "2  149.51       7       220      81.70      1.83\n",
       "3  219.61       9       300     133.10      1.65\n",
       "4  161.56      17       200      61.90      2.61"
      ]
     },
     "execution_count": 68,
     "metadata": {},
     "output_type": "execute_result"
    }
   ],
   "source": [
    "X = df.drop('Ql(%)', axis =1)\n",
    "X.head()"
   ]
  },
  {
   "cell_type": "code",
   "execution_count": 67,
   "id": "0099d791",
   "metadata": {},
   "outputs": [
    {
     "data": {
      "text/plain": [
       "array([-0.07638529,  2.1404665 ,  0.13481988, -0.18420617, -5.40769715])"
      ]
     },
     "execution_count": 67,
     "metadata": {},
     "output_type": "execute_result"
    }
   ],
   "source": [
    "\n",
    "    from sklearn.linear_model import LinearRegression\n",
    "    from sklearn.model_selection import train_test_split\n",
    "    X_train,X_test,y_train,y_test = train_test_split(X,y,test_size=0.25,random_state=101)\n",
    "    model = LinearRegression()\n",
    "    model.fit(X_train,y_train)\n",
    "    model.coef_\n",
    "    \n",
    "\n",
    "    "
   ]
  },
  {
   "cell_type": "code",
   "execution_count": 70,
   "id": "9545ea68",
   "metadata": {},
   "outputs": [
    {
     "data": {
      "text/html": [
       "<div>\n",
       "<style scoped>\n",
       "    .dataframe tbody tr th:only-of-type {\n",
       "        vertical-align: middle;\n",
       "    }\n",
       "\n",
       "    .dataframe tbody tr th {\n",
       "        vertical-align: top;\n",
       "    }\n",
       "\n",
       "    .dataframe thead th {\n",
       "        text-align: right;\n",
       "    }\n",
       "</style>\n",
       "<table border=\"1\" class=\"dataframe\">\n",
       "  <thead>\n",
       "    <tr style=\"text-align: right;\">\n",
       "      <th></th>\n",
       "      <th>A/</th>\n",
       "      <th>Nos(N)</th>\n",
       "      <th>Depth(m)</th>\n",
       "      <th>width(m)</th>\n",
       "    </tr>\n",
       "  </thead>\n",
       "  <tbody>\n",
       "    <tr>\n",
       "      <th>0</th>\n",
       "      <td>262.26</td>\n",
       "      <td>15</td>\n",
       "      <td>350</td>\n",
       "      <td>3.10</td>\n",
       "    </tr>\n",
       "    <tr>\n",
       "      <th>1</th>\n",
       "      <td>134.23</td>\n",
       "      <td>13</td>\n",
       "      <td>220</td>\n",
       "      <td>2.69</td>\n",
       "    </tr>\n",
       "    <tr>\n",
       "      <th>2</th>\n",
       "      <td>149.51</td>\n",
       "      <td>7</td>\n",
       "      <td>220</td>\n",
       "      <td>1.83</td>\n",
       "    </tr>\n",
       "    <tr>\n",
       "      <th>3</th>\n",
       "      <td>219.61</td>\n",
       "      <td>9</td>\n",
       "      <td>300</td>\n",
       "      <td>1.65</td>\n",
       "    </tr>\n",
       "    <tr>\n",
       "      <th>4</th>\n",
       "      <td>161.56</td>\n",
       "      <td>17</td>\n",
       "      <td>200</td>\n",
       "      <td>2.61</td>\n",
       "    </tr>\n",
       "  </tbody>\n",
       "</table>\n",
       "</div>"
      ],
      "text/plain": [
       "       A/  Nos(N)  Depth(m)  width(m)\n",
       "0  262.26      15       350      3.10\n",
       "1  134.23      13       220      2.69\n",
       "2  149.51       7       220      1.83\n",
       "3  219.61       9       300      1.65\n",
       "4  161.56      17       200      2.61"
      ]
     },
     "execution_count": 70,
     "metadata": {},
     "output_type": "execute_result"
    }
   ],
   "source": [
    "X2 = X.drop('Length(m)', axis =1)\n",
    "X2.head()"
   ]
  },
  {
   "cell_type": "code",
   "execution_count": 72,
   "id": "e25e144a",
   "metadata": {},
   "outputs": [
    {
     "data": {
      "text/plain": [
       "array([-0.13733424,  1.62157606,  0.05900612,  1.84607025])"
      ]
     },
     "execution_count": 72,
     "metadata": {},
     "output_type": "execute_result"
    }
   ],
   "source": [
    "    from sklearn.linear_model import LinearRegression\n",
    "    from sklearn.model_selection import train_test_split\n",
    "    X2_train,X2_test,y_train,y_test = train_test_split(X2,y,test_size=0.25,random_state=101)\n",
    "    model = LinearRegression()\n",
    "    model.fit(X2_train,y_train)\n",
    "    model.coef_"
   ]
  },
  {
   "cell_type": "code",
   "execution_count": 74,
   "id": "0c4a9900",
   "metadata": {},
   "outputs": [
    {
     "data": {
      "text/html": [
       "<div>\n",
       "<style scoped>\n",
       "    .dataframe tbody tr th:only-of-type {\n",
       "        vertical-align: middle;\n",
       "    }\n",
       "\n",
       "    .dataframe tbody tr th {\n",
       "        vertical-align: top;\n",
       "    }\n",
       "\n",
       "    .dataframe thead th {\n",
       "        text-align: right;\n",
       "    }\n",
       "</style>\n",
       "<table border=\"1\" class=\"dataframe\">\n",
       "  <thead>\n",
       "    <tr style=\"text-align: right;\">\n",
       "      <th></th>\n",
       "      <th>A/</th>\n",
       "      <th>Nos(N)</th>\n",
       "      <th>Depth(m)</th>\n",
       "      <th>Length(m)</th>\n",
       "    </tr>\n",
       "  </thead>\n",
       "  <tbody>\n",
       "    <tr>\n",
       "      <th>0</th>\n",
       "      <td>262.26</td>\n",
       "      <td>15</td>\n",
       "      <td>350</td>\n",
       "      <td>84.61</td>\n",
       "    </tr>\n",
       "    <tr>\n",
       "      <th>1</th>\n",
       "      <td>134.23</td>\n",
       "      <td>13</td>\n",
       "      <td>220</td>\n",
       "      <td>49.90</td>\n",
       "    </tr>\n",
       "    <tr>\n",
       "      <th>2</th>\n",
       "      <td>149.51</td>\n",
       "      <td>7</td>\n",
       "      <td>220</td>\n",
       "      <td>81.70</td>\n",
       "    </tr>\n",
       "    <tr>\n",
       "      <th>3</th>\n",
       "      <td>219.61</td>\n",
       "      <td>9</td>\n",
       "      <td>300</td>\n",
       "      <td>133.10</td>\n",
       "    </tr>\n",
       "    <tr>\n",
       "      <th>4</th>\n",
       "      <td>161.56</td>\n",
       "      <td>17</td>\n",
       "      <td>200</td>\n",
       "      <td>61.90</td>\n",
       "    </tr>\n",
       "  </tbody>\n",
       "</table>\n",
       "</div>"
      ],
      "text/plain": [
       "       A/  Nos(N)  Depth(m)  Length(m)\n",
       "0  262.26      15       350      84.61\n",
       "1  134.23      13       220      49.90\n",
       "2  149.51       7       220      81.70\n",
       "3  219.61       9       300     133.10\n",
       "4  161.56      17       200      61.90"
      ]
     },
     "execution_count": 74,
     "metadata": {},
     "output_type": "execute_result"
    }
   ],
   "source": [
    "X3 = X.drop('width(m)', axis=1)\n",
    "X3.head()"
   ]
  },
  {
   "cell_type": "code",
   "execution_count": 75,
   "id": "6b15a6e6",
   "metadata": {},
   "outputs": [
    {
     "data": {
      "text/plain": [
       "array([-0.11734638,  1.77337627,  0.08021308, -0.05342955])"
      ]
     },
     "execution_count": 75,
     "metadata": {},
     "output_type": "execute_result"
    }
   ],
   "source": [
    "    from sklearn.linear_model import LinearRegression\n",
    "    from sklearn.model_selection import train_test_split\n",
    "    X3_train,X3_test,y_train,y_test = train_test_split(X3,y,test_size=0.25,random_state=101)\n",
    "    model = LinearRegression()\n",
    "    model.fit(X3_train,y_train)\n",
    "    model.coef_"
   ]
  },
  {
   "cell_type": "code",
   "execution_count": 77,
   "id": "b19f6fb4",
   "metadata": {},
   "outputs": [
    {
     "data": {
      "text/html": [
       "<div>\n",
       "<style scoped>\n",
       "    .dataframe tbody tr th:only-of-type {\n",
       "        vertical-align: middle;\n",
       "    }\n",
       "\n",
       "    .dataframe tbody tr th {\n",
       "        vertical-align: top;\n",
       "    }\n",
       "\n",
       "    .dataframe thead th {\n",
       "        text-align: right;\n",
       "    }\n",
       "</style>\n",
       "<table border=\"1\" class=\"dataframe\">\n",
       "  <thead>\n",
       "    <tr style=\"text-align: right;\">\n",
       "      <th></th>\n",
       "      <th>A/</th>\n",
       "      <th>Nos(N)</th>\n",
       "      <th>Depth(m)</th>\n",
       "    </tr>\n",
       "  </thead>\n",
       "  <tbody>\n",
       "    <tr>\n",
       "      <th>0</th>\n",
       "      <td>262.26</td>\n",
       "      <td>15</td>\n",
       "      <td>350</td>\n",
       "    </tr>\n",
       "    <tr>\n",
       "      <th>1</th>\n",
       "      <td>134.23</td>\n",
       "      <td>13</td>\n",
       "      <td>220</td>\n",
       "    </tr>\n",
       "    <tr>\n",
       "      <th>2</th>\n",
       "      <td>149.51</td>\n",
       "      <td>7</td>\n",
       "      <td>220</td>\n",
       "    </tr>\n",
       "    <tr>\n",
       "      <th>3</th>\n",
       "      <td>219.61</td>\n",
       "      <td>9</td>\n",
       "      <td>300</td>\n",
       "    </tr>\n",
       "    <tr>\n",
       "      <th>4</th>\n",
       "      <td>161.56</td>\n",
       "      <td>17</td>\n",
       "      <td>200</td>\n",
       "    </tr>\n",
       "  </tbody>\n",
       "</table>\n",
       "</div>"
      ],
      "text/plain": [
       "       A/  Nos(N)  Depth(m)\n",
       "0  262.26      15       350\n",
       "1  134.23      13       220\n",
       "2  149.51       7       220\n",
       "3  219.61       9       300\n",
       "4  161.56      17       200"
      ]
     },
     "execution_count": 77,
     "metadata": {},
     "output_type": "execute_result"
    }
   ],
   "source": [
    "X4 = X3.drop('Length(m)', axis =1)\n",
    "X4.head()"
   ]
  },
  {
   "cell_type": "code",
   "execution_count": 78,
   "id": "ec300205",
   "metadata": {},
   "outputs": [
    {
     "data": {
      "text/plain": [
       "array([-0.15386495,  1.61231013,  0.06461112])"
      ]
     },
     "execution_count": 78,
     "metadata": {},
     "output_type": "execute_result"
    }
   ],
   "source": [
    "    from sklearn.linear_model import LinearRegression\n",
    "    from sklearn.model_selection import train_test_split\n",
    "    X4_train,X4_test,y_train,y_test = train_test_split(X4,y,test_size=0.25,random_state=101)\n",
    "    model = LinearRegression()\n",
    "    model.fit(X4_train,y_train)\n",
    "    model.coef_"
   ]
  }
 ],
 "metadata": {
  "kernelspec": {
   "display_name": "Python 3.7.0 ('mltest')",
   "language": "python",
   "name": "python3"
  },
  "language_info": {
   "codemirror_mode": {
    "name": "ipython",
    "version": 3
   },
   "file_extension": ".py",
   "mimetype": "text/x-python",
   "name": "python",
   "nbconvert_exporter": "python",
   "pygments_lexer": "ipython3",
   "version": "3.7.0"
  },
  "vscode": {
   "interpreter": {
    "hash": "52a4d877ffcfd1b087fbf07d227ba16e194391add6389c0fe329abd3a19e5b8f"
   }
  }
 },
 "nbformat": 4,
 "nbformat_minor": 5
}
